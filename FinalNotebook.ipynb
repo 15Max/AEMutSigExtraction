{
 "cells": [
  {
   "cell_type": "markdown",
   "metadata": {},
   "source": [
    "# Autoencoders for mutational signatures\n",
    "##### Deep Learning Project, Università degli studi di Trieste\n",
    "##### Authors: Nicola Cortinovis, Marta Lucas, Annalisa Paladino"
   ]
  },
  {
   "cell_type": "code",
   "execution_count": null,
   "metadata": {},
   "outputs": [],
   "source": [
    "import pandas as pd \n",
    "import numpy as np\n",
    "import matplotlib.pyplot as plt\n",
    "import seaborn as sns\n",
    "import torch.nn as nn\n",
    "import torch.optim as optim\n",
    "import torch\n",
    "from sklearn.model_selection import train_test_split\n",
    "\n",
    "from models import CNMF,AE_NMF, Denoising \n",
    "from functions import *\n",
    "\n",
    "#set random seed\n",
    "np.random.seed(0)\n",
    "torch.manual_seed(0)"
   ]
  }
 ],
 "metadata": {
  "language_info": {
   "name": "python"
  }
 },
 "nbformat": 4,
 "nbformat_minor": 2
}
