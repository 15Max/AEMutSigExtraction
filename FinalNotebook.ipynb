{
 "cells": [
  {
   "cell_type": "markdown",
   "metadata": {},
   "source": [
    "# Autoencoders for mutational signatures\n",
    "##### Deep Learning Project, Università degli studi di Trieste\n",
    "##### Authors: Nicola Cortinovis, Marta Lucas, Annalisa Paladino"
   ]
  },
  {
   "cell_type": "code",
   "execution_count": 15,
   "metadata": {},
   "outputs": [
    {
     "data": {
      "text/plain": [
       "<torch._C.Generator at 0x189c7918730>"
      ]
     },
     "execution_count": 15,
     "metadata": {},
     "output_type": "execute_result"
    }
   ],
   "source": [
    "import pandas as pd \n",
    "import numpy as np\n",
    "import matplotlib.pyplot as plt\n",
    "import seaborn as sns\n",
    "import torch.nn as nn\n",
    "import torch.optim as optim\n",
    "from torch.utils.data import DataLoader, TensorDataset\n",
    "import torch\n",
    "from sklearn.model_selection import train_test_split\n",
    "\n",
    "from models import CNMF,AE_NMF, Denoising \n",
    "from functions import *\n",
    "\n",
    "#set random seed\n",
    "np.random.seed(0)\n",
    "torch.manual_seed(0)"
   ]
  },
  {
   "cell_type": "markdown",
   "metadata": {},
   "source": [
    "## Data\n"
   ]
  },
  {
   "cell_type": "code",
   "execution_count": 16,
   "metadata": {},
   "outputs": [],
   "source": [
    "# Load the .tsv file\n",
    "data = pd.read_csv(\"data/GEL_data/catalogues_Ovary_SBS.tsv\", sep=\"\\t\")"
   ]
  },
  {
   "cell_type": "markdown",
   "metadata": {},
   "source": [
    "## CMNF"
   ]
  },
  {
   "cell_type": "code",
   "execution_count": null,
   "metadata": {},
   "outputs": [],
   "source": []
  },
  {
   "cell_type": "markdown",
   "metadata": {},
   "source": [
    "## AENMF"
   ]
  },
  {
   "cell_type": "code",
   "execution_count": null,
   "metadata": {},
   "outputs": [],
   "source": []
  },
  {
   "cell_type": "markdown",
   "metadata": {},
   "source": [
    "## Denoising Sparse Autoencoder"
   ]
  },
  {
   "cell_type": "code",
   "execution_count": 17,
   "metadata": {},
   "outputs": [],
   "source": [
    "clean_data_tensor = torch.tensor(data.values, dtype=torch.float32)\n",
    "noisy_data = Denoising.add_noise_count(clean_data_tensor, sigma = 6)\n",
    "\n",
    "# Train-test split\n",
    "test_split = 0.2\n",
    "num_samples = clean_data_tensor.shape[0]\n",
    "test_size = int(num_samples * test_split)\n",
    "train_size = num_samples - test_size\n",
    "\n",
    "train_data, test_data = torch.utils.data.random_split(\n",
    "    TensorDataset(noisy_data, clean_data_tensor), [train_size, test_size])\n",
    "\n",
    "train_loader = DataLoader(train_data, batch_size=32, shuffle=True)\n",
    "test_loader = DataLoader(test_data, batch_size=32, shuffle=False) # TODO: shuffle=False?"
   ]
  },
  {
   "cell_type": "code",
   "execution_count": 18,
   "metadata": {},
   "outputs": [
    {
     "name": "stdout",
     "output_type": "stream",
     "text": [
      "tensor([[ 332.,   78.,  130.,  ...,   91.,  265.,  280.],\n",
      "        [ 228.,   58.,  124.,  ...,   37.,  222.,  201.],\n",
      "        [  27.,   13.,   15.,  ...,   49.,   28.,   44.],\n",
      "        ...,\n",
      "        [  75.,   16.,   34.,  ...,    5.,   46.,   75.],\n",
      "        [ 380.,   23.,   59.,  ...,   26.,   70.,   86.],\n",
      "        [2565.,   43.,   79.,  ...,  124.,  147.,  133.]])\n"
     ]
    }
   ],
   "source": [
    "print(clean_data_tensor)"
   ]
  },
  {
   "cell_type": "code",
   "execution_count": 19,
   "metadata": {},
   "outputs": [
    {
     "name": "stdout",
     "output_type": "stream",
     "text": [
      "(tensor([ 94,   0,  27,  15,  15,   9,  26,  22,  60,  21,  12,  59, 108,  39,\n",
      "        247,  99,  13,   7, 176,  71,  29,  58,  21,  26,  53,   5,  45,   8,\n",
      "         53,  24,  23,  22,  12,  10,  47,  16,  14,  45, 108, 219, 109,  22,\n",
      "        101,   0,  37,  16, 100,  10,  20,  15,  48,  25,  57,  54,  33,  68,\n",
      "        135,  28,  61,  40,  36,  20,  19,  16,  29,  28,   0,  43,  33,  55,\n",
      "         24,  11,   8,   4,   6,  20,  61,  31,  23,  16,  47,  44,   4,  70,\n",
      "          8,   0,   8,  14,  12,  13,   3,  31,   0,  36,  79,   7,  25,  70,\n",
      "         75,  43,  54,   0,   3,  22,  51,   7,  10,  21,  75, 117,  18,  32,\n",
      "         50,  20,  40,  43,   9,   2,  51, 147,  20,  15,  25,   8,  58,  26,\n",
      "         32,  35,  33,  41,  23,  78,   0,  17,  16,   8,  42,   9,  20,   0,\n",
      "         15,   7,   6, 944,  30,  14,   8,  13,   8,  14,   9,  24,  12,  51,\n",
      "          2,  46,  25,   9,  57,   0, 137,   4,  41,  49,  27,  29,   8,   3,\n",
      "         11,  33,  67,  60,  29,  13,  16,  40,  11,   7,  67,  50,  33,  22,\n",
      "         10,  41,  77,   9,   1,  52,  44,   7,   2,  67,  58,  93,  47,  11,\n",
      "         25,   5,   6,  53,   8,  24,  59,   5,  11,  77,  34,  32,   4,  19,\n",
      "         12,  51,  15,  50,  47,   9,  10,   0,  23,  14,  14,  21,  14,  19,\n",
      "          1,  23,  17,  24,  16,   7,  58,   8,  43,   5,   2,  38,  19,   0,\n",
      "         47,  16,  39,   9,  35,   6,  43,   7,  32,   6,  33,  10,   0,  23,\n",
      "         10,  28,  26,  16,  27,  52,  15,   0,   4,  28,  31,  39,  12,  47,\n",
      "         47, 186,  58,  37,  32,  41,  17,  86,  38,  11,   5,  19,  81,  26,\n",
      "         18,  18,   0,  25, 138,   6,  37,   5,   8,  41,   0, 114,  16,  11,\n",
      "          5,  21,  30,   0,  19,   7,  12, 106,  11,  22,  36,  57,  66,  73,\n",
      "         83,  44,  61,  38,  49,  19,   0,  70,  21,  40,  10,   1,  82,   9,\n",
      "         16,  80,  27,   9,  15,  62,  14,   8,  95,  27,  22,  17,  53,  55,\n",
      "         78,  50,  15,  14,  21,  87,  28,  30,  28,  50,  45,  20,  22,  58,\n",
      "         43,   6,  54,  16,   0,  28,   1,  15,   1, 107,  57,  14,   8,  44,\n",
      "          0,  36,  47,  53,  10,  16,   5,   1,  57,  34,   0,   0,  28,  47,\n",
      "         49,  56,  43,  21,   6,  58,  35,  57,   8,  56,  33,  15,  39,  14,\n",
      "         17,   6,  14,  35,  47,  21,  86,   5,  94,  13,  60,  27,   5,   3,\n",
      "         63,  75,  42,  33,  15,   9,   5,  10,  74,  18,  20,  60,  69, 111,\n",
      "         42,  31,  43,  46,  93,   9,  34,   1,  40,  15,   8,  17,  11,  13,\n",
      "         14,  21,  47,  20,  36,  11,  29,   2,   9,  19,  59,  34,  32,  13,\n",
      "         12,   1,  82,   4,   0,   9,  20,  32,  55,  71, 107,  10,  32,  59,\n",
      "          7,   6, 237, 110,  29, 129,   2, 120,  51,   2,  24,  26,  22,  38,\n",
      "         31,  20,  45,  16,  80,  31,  28,  58,  22,  15,   8,  13,  10,  15,\n",
      "         60,  28,  59,  19,   5,  17,  25,   7,  42,   1,  28,  12,  42,  11,\n",
      "          0, 108,  15,   9,  29,   0,  22,  10,  11, 124,  33,   8,  56,  24,\n",
      "         19,  62,   3,  45,  67], dtype=torch.int32), tensor([ 98.,   8.,  33.,  16.,  14.,  11.,  25.,  22.,  61.,  15.,  11.,  63.,\n",
      "        111.,  42., 239., 103.,  13.,  14., 171.,  78.,  20.,  51.,  22.,  27.,\n",
      "         41.,   6.,  40.,   7.,  60.,  21.,  22.,  24.,  10.,  21.,  62.,  20.,\n",
      "         14.,  51., 102., 221., 109.,  26., 101.,   2.,  39.,   7., 100.,  14.,\n",
      "         13.,  16.,  43.,  24.,  55.,  61.,  25.,  62., 123.,  22.,  55.,  32.,\n",
      "         31.,  11.,   9.,  12.,  23.,  23.,   1.,  45.,  41.,  64.,  15.,  15.,\n",
      "         13.,   8.,   4.,   9.,  58.,  28.,  26.,  13.,  52.,  44.,   5.,  77.,\n",
      "         19.,   6.,  11.,  17.,   8.,  19.,   4.,  37.,   5.,  36.,  80.,  12.,\n",
      "         22.,  64.,  86.,  39.,  47.,   6.,   9.,  18.,  50.,  20.,  13.,  23.,\n",
      "         80., 120.,  18.,  31.,  46.,  11.,  29.,  39.,  17.,   4.,  55., 148.,\n",
      "         25.,  12.,  31.,  17.,  60.,  20.,  32.,  30.,  38.,  45.,  22.,  70.,\n",
      "          6.,  18.,  13.,  14.,  50.,   8.,  18.,   3.,  13.,   4.,   7., 939.,\n",
      "         23.,   7.,   9.,  13.,   9.,   7.,  13.,  12.,  13.,  46.,  13.,  49.,\n",
      "         33.,   9.,  51.,   4., 151.,   3.,  33.,  51.,  20.,  23.,  12.,   9.,\n",
      "         14.,  25.,  75.,  59.,  25.,  13.,  10.,  30.,  15.,  10.,  69.,  43.,\n",
      "         31.,  21.,   3.,  40.,  83.,   8.,  13.,  49.,  34.,  14.,   9.,  67.,\n",
      "         61.,  81.,  46.,  12.,  20.,   8.,   9.,  45.,   9.,  21.,  67.,   4.,\n",
      "          2.,  72.,  40.,  28.,  12.,  13.,  12.,  40.,  13.,  51.,  45.,  13.,\n",
      "          7.,   4.,  33.,   9.,  17.,  22.,   9.,  28.,   4.,  12.,  20.,  26.,\n",
      "         20.,  17.,  65.,   2.,  48.,   6.,   3.,  42.,  21.,   5.,  39.,  21.,\n",
      "         42.,   4.,  41.,  11.,  34.,   8.,  34.,  17.,  34.,  10.,   4.,  12.,\n",
      "         13.,  19.,  30.,  24.,  21.,  62.,  10.,   7.,   8.,  26.,  38.,  41.,\n",
      "         12.,  47.,  44., 180.,  63.,  47.,  22.,  46.,  20.,  94.,  27.,  10.,\n",
      "          8.,  23.,  81.,  21.,   7.,  27.,   7.,  28., 137.,   9.,  39.,  13.,\n",
      "         18.,  31.,   2., 107.,   9.,  11.,   6.,  25.,  38.,   7.,  22.,  13.,\n",
      "          9.,  96.,  15.,  20.,  32.,  55.,  62.,  73.,  93.,  40.,  46.,  46.,\n",
      "         49.,  14.,   7.,  70.,  30.,  33.,  10.,   4.,  75.,   7.,   7.,  76.,\n",
      "         25.,  20.,  18.,  61.,  11.,  11., 103.,  30.,  11.,  19.,  49.,  47.,\n",
      "         74.,  48.,  22.,  19.,  29.,  85.,  31.,  27.,  36.,  40.,  40.,  15.,\n",
      "         36.,  62.,  44.,   7.,  55.,  24.,   8.,  34.,   6.,  20.,   9., 106.,\n",
      "         49.,  14.,   8.,  29.,   3.,  34.,  44.,  56.,  17.,  15.,   5.,   7.,\n",
      "         49.,  24.,   7.,   6.,  23.,  45.,  51.,  48.,  49.,  14.,   8.,  53.,\n",
      "         41.,  49.,   7.,  62.,  27.,  15.,  47.,  14.,   7.,  15.,   9.,  37.,\n",
      "         46.,  15.,  81.,   4.,  93.,  11.,  65.,  16.,   7.,  11.,  62.,  84.,\n",
      "         34.,  32.,   9.,   7.,   0.,   6.,  66.,   5.,  11.,  48.,  81., 118.,\n",
      "         34.,  23.,  44.,  41.,  95.,   8.,  33.,  10.,  33.,  26.,   4.,   7.,\n",
      "          7.,  15.,  15.,  24.,  39.,  19.,  20.,   5.,  28.,   6.,  12.,  16.,\n",
      "         55.,  35.,  31.,  20.,  17.,  10.,  78.,   8.,   3.,  13.,  24.,  38.,\n",
      "         58.,  73., 102.,   3.,  19.,  58.,   7.,   8., 226., 111.,  32., 123.,\n",
      "          8., 119.,  47.,  10.,  21.,  39.,  23.,  35.,  24.,  13.,  47.,  22.,\n",
      "         81.,  40.,  18.,  65.,  14.,  11.,   3.,   5.,  10.,  10.,  54.,  20.,\n",
      "         55.,  12.,   3.,  17.,  33.,  14.,  49.,   9.,  25.,  17.,  44.,  17.,\n",
      "          0., 104.,  22.,  11.,  28.,   9.,  36.,   7.,  10., 126.,  31.,   4.,\n",
      "         61.,  21.,  18.,  69.,   6.,  51.,  68.]))\n"
     ]
    }
   ],
   "source": [
    "print(train_loader.dataset[0])"
   ]
  },
  {
   "cell_type": "markdown",
   "metadata": {},
   "source": [
    "## Muse-XAE"
   ]
  },
  {
   "cell_type": "code",
   "execution_count": null,
   "metadata": {},
   "outputs": [],
   "source": []
  },
  {
   "cell_type": "markdown",
   "metadata": {},
   "source": [
    "## Results"
   ]
  },
  {
   "cell_type": "markdown",
   "metadata": {},
   "source": [
    "## Conclusions"
   ]
  }
 ],
 "metadata": {
  "kernelspec": {
   "display_name": "DL_GENOMICS",
   "language": "python",
   "name": "python3"
  },
  "language_info": {
   "codemirror_mode": {
    "name": "ipython",
    "version": 3
   },
   "file_extension": ".py",
   "mimetype": "text/x-python",
   "name": "python",
   "nbconvert_exporter": "python",
   "pygments_lexer": "ipython3",
   "version": "3.11.10"
  }
 },
 "nbformat": 4,
 "nbformat_minor": 2
}
