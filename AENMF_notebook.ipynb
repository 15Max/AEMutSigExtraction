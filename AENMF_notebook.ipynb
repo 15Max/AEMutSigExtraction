{
 "cells": [
  {
   "cell_type": "markdown",
   "metadata": {},
   "source": [
    "## File per il confronto tra autoencoder\n",
    "\n",
    "Prova a copiare quello che viene fatto nel paper per quanto riguarda AE-NMF. Da testare ancora classico.\n"
   ]
  },
  {
   "cell_type": "code",
   "execution_count": 16,
   "metadata": {},
   "outputs": [
    {
     "data": {
      "text/plain": [
       "<torch._C.Generator at 0x7f62cf13e050>"
      ]
     },
     "execution_count": 16,
     "metadata": {},
     "output_type": "execute_result"
    }
   ],
   "source": [
    "import pandas as pd \n",
    "import numpy as np\n",
    "import matplotlib.pyplot as plt\n",
    "import torch.nn as nn\n",
    "import torch.optim as optim\n",
    "import torch\n",
    "from sklearn.model_selection import train_test_split\n",
    "from functions import *\n",
    "from models import AE_NMF\n",
    "\n",
    "\n",
    "# set seed\n",
    "np.random.seed(0)\n",
    "torch.manual_seed(0)\n",
    "\n"
   ]
  },
  {
   "cell_type": "code",
   "execution_count": 17,
   "metadata": {},
   "outputs": [],
   "source": [
    "# Load the .tsv file\n",
    "data = pd.read_csv(\"data/GEL_data/catalogues_Ovary_SBS.tsv\", sep=\"\\t\")"
   ]
  },
  {
   "cell_type": "code",
   "execution_count": 18,
   "metadata": {},
   "outputs": [
    {
     "name": "stdout",
     "output_type": "stream",
     "text": [
      "(96, 418)\n",
      "(96, 105)\n"
     ]
    }
   ],
   "source": [
    "# We need to transpose the data because the colums contain the patient data and the rows contain the specifc mutations\n",
    "train, test = train_test_split(data.T, test_size=0.2)\n",
    "\n",
    "\n",
    "train = train.T\n",
    "test = test.T\n",
    "\n",
    "print(train.shape)\n",
    "print(test.shape)\n"
   ]
  },
  {
   "cell_type": "code",
   "execution_count": 19,
   "metadata": {},
   "outputs": [
    {
     "name": "stdout",
     "output_type": "stream",
     "text": [
      "(96, 418)\n",
      "(96, 105)\n"
     ]
    }
   ],
   "source": [
    "losses = []\n",
    "errors = []\n",
    "iterations = 1\n",
    "\n",
    "for i in range(iterations):\n",
    "\n",
    "    data = pd.read_csv(\"data/GEL_data/catalogues_Ovary_SBS.tsv\", sep=\"\\t\")\n",
    "    # We need to transpose the data because the colums contain the patient data and the rows contain the specifc mutations\n",
    "    train, test = train_test_split(data.T, test_size=0.2, shuffle=True)\n",
    "\n",
    "\n",
    "    train = train.T\n",
    "    test = test.T\n",
    "\n",
    "    print(train.shape)\n",
    "    print(test.shape)\n",
    "\n",
    "    autoencoder = AE_NMF.AE_NMF(input_dim = train.shape[1], latent_dim = 4, constraint= 'pg')\n",
    "\n",
    "    model, loss, signature, exposures_mat, encoding_mat, iteration = AE_NMF.train(model = autoencoder,\n",
    "                                                            training_data = train,\n",
    "                                                            criterion = torch.nn.MSELoss(reduction = 'mean'),\n",
    "                                                            optimizer = optim.Adam(autoencoder.parameters(), lr=1e-4),\n",
    "                                                            tol =  1e-10,\n",
    "                                                            relative_tol=True,\n",
    "                                                            max_iter = 10_000_000)\n",
    "\n",
    "\n",
    "    data1 = signature@exposures_mat\n",
    "\n",
    "    data = pd.DataFrame(data1, columns=train.columns)\n",
    "\n",
    "    losses.append(loss[-1])\n",
    "\n",
    "\n",
    "    diagonals_AE = signature.sum(axis = 0)\n",
    "    exposures_AE = np.diag(diagonals_AE)@exposures_mat\n",
    "    signatures_AE = (signature)@np.diag(1/diagonals_AE)\n",
    "\n",
    "    out_error_AE = reconstruction_error(test, signatures_AE)\n",
    "    errors.append(out_error_AE)\n"
   ]
  },
  {
   "cell_type": "code",
   "execution_count": 20,
   "metadata": {},
   "outputs": [],
   "source": [
    "reconstruction_err = reconstruction_error(data = train, signature_matrix = signature)"
   ]
  },
  {
   "cell_type": "code",
   "execution_count": 21,
   "metadata": {},
   "outputs": [
    {
     "data": {
      "image/png": "[encoded data removed]",
      "text/plain": [
       "<Figure size 640x480 with 1 Axes>"
      ]
     },
     "metadata": {},
     "output_type": "display_data"
    },
    {
     "name": "stdout",
     "output_type": "stream",
     "text": [
      "Last Loss:  14999.28515625\n"
     ]
    }
   ],
   "source": [
    "# plot the loss\n",
    "\n",
    "plt.plot(loss)\n",
    "plt.xlabel('Iterations')\n",
    "plt.ylabel('Loss')\n",
    "plt.title('Loss vs Iterations')\n",
    "plt.show()\n",
    "\n",
    "print(\"Last Loss: \", loss[-1])"
   ]
  },
  {
   "cell_type": "code",
   "execution_count": 22,
   "metadata": {},
   "outputs": [
    {
     "name": "stdout",
     "output_type": "stream",
     "text": [
      "Error: 11698.82161027849\n"
     ]
    }
   ],
   "source": [
    "\n",
    "diagonals_AE = signature.sum(axis = 0)\n",
    "exposures_AE = np.diag(diagonals_AE)@exposures_mat\n",
    "signatures_AE = (signature)@np.diag(1/diagonals_AE)\n",
    "\n",
    "out_error_AE = reconstruction_error(test, signatures_AE)\n",
    "\n",
    "print(f\"Error: {out_error_AE}\")"
   ]
  }
 ],
 "metadata": {
  "kernelspec": {
   "display_name": "DL_GENOMICS",
   "language": "python",
   "name": "python3"
  },
  "language_info": {
   "codemirror_mode": {
    "name": "ipython",
    "version": 3
   },
   "file_extension": ".py",
   "mimetype": "text/x-python",
   "name": "python",
   "nbconvert_exporter": "python",
   "pygments_lexer": "ipython3",
   "version": "3.12.8"
  }
 },
 "nbformat": 4,
 "nbformat_minor": 2
}
