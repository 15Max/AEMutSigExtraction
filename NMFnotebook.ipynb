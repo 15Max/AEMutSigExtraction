{
 "cells": [
  {
   "cell_type": "code",
   "execution_count": 1,
   "metadata": {},
   "outputs": [],
   "source": [
    "import pandas as pd \n",
    "import numpy as np\n",
    "import matplotlib.pyplot as plt\n",
    "import seaborn as sns\n",
    "import torch.nn as nn\n",
    "import torch.optim as optim\n",
    "import torch\n",
    "from sklearn.model_selection import train_test_split\n",
    "\n",
    "from models import NMF_liz"
   ]
  },
  {
   "cell_type": "code",
   "execution_count": 2,
   "metadata": {},
   "outputs": [],
   "source": [
    "# Load the .tsv file\n",
    "data = pd.read_csv(\"data/GEL_data/catalogues_Ovary_SBS.tsv\", sep=\"\\t\")"
   ]
  },
  {
   "cell_type": "code",
   "execution_count": 3,
   "metadata": {},
   "outputs": [],
   "source": [
    "# We need to transpose the data because the colums contain the patient data and the rows contain the specifc mutations\n",
    "train, test = train_test_split(data.T, test_size=0.2)\n",
    "\n",
    "\n",
    "train = train.T.to_numpy()\n",
    "test = test.T.to_numpy()\n",
    "\n",
    "#print(train.shape)\n",
    "#print(test.shape)\n",
    "\n"
   ]
  },
  {
   "cell_type": "code",
   "execution_count": 4,
   "metadata": {},
   "outputs": [],
   "source": [
    "model = NMF_liz.NMF_mult(X= train, rank=4, tol=1e-10, F_0 = None, G_0 = None)"
   ]
  },
  {
   "cell_type": "code",
   "execution_count": 5,
   "metadata": {},
   "outputs": [
    {
     "data": {
      "image/png": "[encoded data removed]",
      "text/plain": [
       "<Figure size 640x480 with 1 Axes>"
      ]
     },
     "metadata": {},
     "output_type": "display_data"
    },
    {
     "name": "stdout",
     "output_type": "stream",
     "text": [
      "Last Loss:  4539.117625903923\n"
     ]
    }
   ],
   "source": [
    "loss = model[2]\n",
    "plt.plot(loss)\n",
    "plt.xlabel('Iterations')\n",
    "plt.ylabel('Loss')\n",
    "plt.title('Loss vs Iterations')\n",
    "plt.show()\n",
    "print(\"Last Loss: \", loss[-1])\n",
    "\n"
   ]
  },
  {
   "cell_type": "code",
   "execution_count": 6,
   "metadata": {},
   "outputs": [],
   "source": [
    "G = model[1] # exposure\n",
    "F = model[0] # signature "
   ]
  },
  {
   "cell_type": "code",
   "execution_count": 7,
   "metadata": {},
   "outputs": [],
   "source": [
    "from functions import *\n"
   ]
  },
  {
   "cell_type": "code",
   "execution_count": 8,
   "metadata": {},
   "outputs": [
    {
     "ename": "AttributeError",
     "evalue": "'numpy.ndarray' object has no attribute 'apply'",
     "output_type": "error",
     "traceback": [
      "\u001b[1;31m---------------------------------------------------------------------------\u001b[0m",
      "\u001b[1;31mAttributeError\u001b[0m                            Traceback (most recent call last)",
      "Cell \u001b[1;32mIn[8], line 5\u001b[0m\n\u001b[0;32m      2\u001b[0m exp \u001b[38;5;241m=\u001b[39m np\u001b[38;5;241m.\u001b[39mdiag(diag)\u001b[38;5;129m@G\u001b[39m\n\u001b[0;32m      3\u001b[0m sig \u001b[38;5;241m=\u001b[39m F\u001b[38;5;129m@np\u001b[39m\u001b[38;5;241m.\u001b[39mdiag(\u001b[38;5;241m1\u001b[39m\u001b[38;5;241m/\u001b[39mdiag)\n\u001b[1;32m----> 5\u001b[0m out_error \u001b[38;5;241m=\u001b[39m \u001b[43mreconstruction_error\u001b[49m\u001b[43m(\u001b[49m\u001b[43mtest\u001b[49m\u001b[43m,\u001b[49m\u001b[43mF\u001b[49m\u001b[43m)\u001b[49m\n\u001b[0;32m      6\u001b[0m \u001b[38;5;28mprint\u001b[39m(out_error)\n",
      "File \u001b[1;32mc:\\Users\\marta\\OneDrive\\Desktop\\DeepLearningProject\\functions.py:54\u001b[0m, in \u001b[0;36mreconstruction_error\u001b[1;34m(data, signature_matrix, mean, max_iterations)\u001b[0m\n\u001b[0;32m     38\u001b[0m \u001b[38;5;124;03m'''\u001b[39;00m\n\u001b[0;32m     39\u001b[0m \u001b[38;5;124;03mThis function calculates the reconstruction error of the data matrix given the signature matrix. \u001b[39;00m\n\u001b[0;32m     40\u001b[0m \u001b[38;5;124;03mThe reconstruction error is defined as the Frobenius norm of the difference between the data matrix \u001b[39;00m\n\u001b[1;32m   (...)\u001b[0m\n\u001b[0;32m     50\u001b[0m \u001b[38;5;124;03mreconstruction_error : float, the reconstruction error.\u001b[39;00m\n\u001b[0;32m     51\u001b[0m \u001b[38;5;124;03m'''\u001b[39;00m\n\u001b[0;32m     53\u001b[0m \u001b[38;5;66;03m# Solve Ax = b with non-negative least squares\u001b[39;00m\n\u001b[1;32m---> 54\u001b[0m exposures \u001b[38;5;241m=\u001b[39m \u001b[43mdata\u001b[49m\u001b[38;5;241;43m.\u001b[39;49m\u001b[43mapply\u001b[49m(\u001b[38;5;28;01mlambda\u001b[39;00m x: nnls(A \u001b[38;5;241m=\u001b[39m signature_matrix, b \u001b[38;5;241m=\u001b[39m x, maxiter \u001b[38;5;241m=\u001b[39m max_iterations)[\u001b[38;5;241m0\u001b[39m], axis \u001b[38;5;241m=\u001b[39m \u001b[38;5;241m0\u001b[39m)\n\u001b[0;32m     56\u001b[0m \u001b[38;5;66;03m# Calculate the reconstruction error\u001b[39;00m\n\u001b[0;32m     57\u001b[0m reconstruction_error \u001b[38;5;241m=\u001b[39m np\u001b[38;5;241m.\u001b[39mlinalg\u001b[38;5;241m.\u001b[39mnorm(data\u001b[38;5;241m.\u001b[39mto_numpy() \u001b[38;5;241m-\u001b[39m np\u001b[38;5;241m.\u001b[39mdot(signature_matrix, exposures))\n",
      "\u001b[1;31mAttributeError\u001b[0m: 'numpy.ndarray' object has no attribute 'apply'"
     ]
    }
   ],
   "source": [
    "diag = F.sum(axis=0)\n",
    "exp = np.diag(diag)@G\n",
    "sig = F@np.diag(1/diag)\n",
    "\n",
    "out_error = reconstruction_error(test,F)\n",
    "print(out_error)"
   ]
  },
  {
   "cell_type": "code",
   "execution_count": null,
   "metadata": {},
   "outputs": [],
   "source": []
  }
 ],
 "metadata": {
  "kernelspec": {
   "display_name": "DL_GENOMICS",
   "language": "python",
   "name": "python3"
  },
  "language_info": {
   "codemirror_mode": {
    "name": "ipython",
    "version": 3
   },
   "file_extension": ".py",
   "mimetype": "text/x-python",
   "name": "python",
   "nbconvert_exporter": "python",
   "pygments_lexer": "ipython3",
   "version": "3.11.10"
  }
 },
 "nbformat": 4,
 "nbformat_minor": 2
}
