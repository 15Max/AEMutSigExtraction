{
 "cells": [
  {
   "cell_type": "code",
   "execution_count": 1,
   "metadata": {},
   "outputs": [],
   "source": [
    "import pandas as pd\n",
    "from models.MUSE import MUSE_Ae, MUSE_Assignment, MUSE_Extraction\n",
    "from data_handling import data_augmentation\n",
    "import matplotlib.pyplot as plt\n",
    "import numpy as np\n",
    "import torch"
   ]
  },
  {
   "cell_type": "code",
   "execution_count": 2,
   "metadata": {},
   "outputs": [],
   "source": [
    "# Get the data\n",
    "\n",
    "# data = pd.read_csv(\"data/GEL_data/catalogues_Ovary_SBS.tsv\", sep=\"\\t\")\n",
    "\n",
    "data = pd.read_csv(\"data/Scenario_1.csv\", index_col=\"Type\")"
   ]
  },
  {
   "cell_type": "code",
   "execution_count": 3,
   "metadata": {},
   "outputs": [
    {
     "data": {
      "text/html": [
       "<div>\n",
       "<style scoped>\n",
       "    .dataframe tbody tr th:only-of-type {\n",
       "        vertical-align: middle;\n",
       "    }\n",
       "\n",
       "    .dataframe tbody tr th {\n",
       "        vertical-align: top;\n",
       "    }\n",
       "\n",
       "    .dataframe thead th {\n",
       "        text-align: right;\n",
       "    }\n",
       "</style>\n",
       "<table border=\"1\" class=\"dataframe\">\n",
       "  <thead>\n",
       "    <tr style=\"text-align: right;\">\n",
       "      <th></th>\n",
       "      <th>SP.Syn.Panc-AdenoCA::S.1_aug_0</th>\n",
       "      <th>SP.Syn.Panc-AdenoCA::S.2_aug_0</th>\n",
       "      <th>SP.Syn.Panc-AdenoCA::S.3_aug_0</th>\n",
       "      <th>SP.Syn.Panc-AdenoCA::S.4_aug_0</th>\n",
       "      <th>SP.Syn.Panc-AdenoCA::S.5_aug_0</th>\n",
       "      <th>SP.Syn.Panc-AdenoCA::S.6_aug_0</th>\n",
       "      <th>SP.Syn.Panc-AdenoCA::S.7_aug_0</th>\n",
       "      <th>SP.Syn.Panc-AdenoCA::S.8_aug_0</th>\n",
       "      <th>SP.Syn.Panc-AdenoCA::S.9_aug_0</th>\n",
       "      <th>SP.Syn.Panc-AdenoCA::S.10_aug_0</th>\n",
       "      <th>...</th>\n",
       "      <th>SP.Syn.Panc-AdenoCA::S.991_aug_9</th>\n",
       "      <th>SP.Syn.Panc-AdenoCA::S.992_aug_9</th>\n",
       "      <th>SP.Syn.Panc-AdenoCA::S.993_aug_9</th>\n",
       "      <th>SP.Syn.Panc-AdenoCA::S.994_aug_9</th>\n",
       "      <th>SP.Syn.Panc-AdenoCA::S.995_aug_9</th>\n",
       "      <th>SP.Syn.Panc-AdenoCA::S.996_aug_9</th>\n",
       "      <th>SP.Syn.Panc-AdenoCA::S.997_aug_9</th>\n",
       "      <th>SP.Syn.Panc-AdenoCA::S.998_aug_9</th>\n",
       "      <th>SP.Syn.Panc-AdenoCA::S.999_aug_9</th>\n",
       "      <th>SP.Syn.Panc-AdenoCA::S.1000_aug_9</th>\n",
       "    </tr>\n",
       "  </thead>\n",
       "  <tbody>\n",
       "    <tr>\n",
       "      <th>0</th>\n",
       "      <td>127</td>\n",
       "      <td>87</td>\n",
       "      <td>158</td>\n",
       "      <td>27</td>\n",
       "      <td>57</td>\n",
       "      <td>117</td>\n",
       "      <td>109</td>\n",
       "      <td>61</td>\n",
       "      <td>133</td>\n",
       "      <td>10</td>\n",
       "      <td>...</td>\n",
       "      <td>92</td>\n",
       "      <td>125</td>\n",
       "      <td>218</td>\n",
       "      <td>56</td>\n",
       "      <td>88</td>\n",
       "      <td>150</td>\n",
       "      <td>17</td>\n",
       "      <td>17</td>\n",
       "      <td>202</td>\n",
       "      <td>41</td>\n",
       "    </tr>\n",
       "    <tr>\n",
       "      <th>1</th>\n",
       "      <td>86</td>\n",
       "      <td>50</td>\n",
       "      <td>105</td>\n",
       "      <td>26</td>\n",
       "      <td>27</td>\n",
       "      <td>54</td>\n",
       "      <td>63</td>\n",
       "      <td>50</td>\n",
       "      <td>72</td>\n",
       "      <td>6</td>\n",
       "      <td>...</td>\n",
       "      <td>70</td>\n",
       "      <td>55</td>\n",
       "      <td>71</td>\n",
       "      <td>22</td>\n",
       "      <td>41</td>\n",
       "      <td>57</td>\n",
       "      <td>18</td>\n",
       "      <td>13</td>\n",
       "      <td>101</td>\n",
       "      <td>25</td>\n",
       "    </tr>\n",
       "    <tr>\n",
       "      <th>2</th>\n",
       "      <td>17</td>\n",
       "      <td>9</td>\n",
       "      <td>31</td>\n",
       "      <td>7</td>\n",
       "      <td>6</td>\n",
       "      <td>9</td>\n",
       "      <td>15</td>\n",
       "      <td>9</td>\n",
       "      <td>11</td>\n",
       "      <td>0</td>\n",
       "      <td>...</td>\n",
       "      <td>16</td>\n",
       "      <td>9</td>\n",
       "      <td>15</td>\n",
       "      <td>4</td>\n",
       "      <td>8</td>\n",
       "      <td>6</td>\n",
       "      <td>2</td>\n",
       "      <td>5</td>\n",
       "      <td>29</td>\n",
       "      <td>5</td>\n",
       "    </tr>\n",
       "    <tr>\n",
       "      <th>3</th>\n",
       "      <td>73</td>\n",
       "      <td>49</td>\n",
       "      <td>93</td>\n",
       "      <td>13</td>\n",
       "      <td>18</td>\n",
       "      <td>42</td>\n",
       "      <td>47</td>\n",
       "      <td>42</td>\n",
       "      <td>73</td>\n",
       "      <td>6</td>\n",
       "      <td>...</td>\n",
       "      <td>50</td>\n",
       "      <td>53</td>\n",
       "      <td>108</td>\n",
       "      <td>39</td>\n",
       "      <td>45</td>\n",
       "      <td>76</td>\n",
       "      <td>17</td>\n",
       "      <td>8</td>\n",
       "      <td>105</td>\n",
       "      <td>23</td>\n",
       "    </tr>\n",
       "    <tr>\n",
       "      <th>4</th>\n",
       "      <td>53</td>\n",
       "      <td>47</td>\n",
       "      <td>103</td>\n",
       "      <td>27</td>\n",
       "      <td>24</td>\n",
       "      <td>54</td>\n",
       "      <td>68</td>\n",
       "      <td>48</td>\n",
       "      <td>53</td>\n",
       "      <td>15</td>\n",
       "      <td>...</td>\n",
       "      <td>44</td>\n",
       "      <td>34</td>\n",
       "      <td>8</td>\n",
       "      <td>20</td>\n",
       "      <td>35</td>\n",
       "      <td>58</td>\n",
       "      <td>16</td>\n",
       "      <td>23</td>\n",
       "      <td>118</td>\n",
       "      <td>23</td>\n",
       "    </tr>\n",
       "  </tbody>\n",
       "</table>\n",
       "<p>5 rows × 10000 columns</p>\n",
       "</div>"
      ],
      "text/plain": [
       "   SP.Syn.Panc-AdenoCA::S.1_aug_0  SP.Syn.Panc-AdenoCA::S.2_aug_0  \\\n",
       "0                             127                              87   \n",
       "1                              86                              50   \n",
       "2                              17                               9   \n",
       "3                              73                              49   \n",
       "4                              53                              47   \n",
       "\n",
       "   SP.Syn.Panc-AdenoCA::S.3_aug_0  SP.Syn.Panc-AdenoCA::S.4_aug_0  \\\n",
       "0                             158                              27   \n",
       "1                             105                              26   \n",
       "2                              31                               7   \n",
       "3                              93                              13   \n",
       "4                             103                              27   \n",
       "\n",
       "   SP.Syn.Panc-AdenoCA::S.5_aug_0  SP.Syn.Panc-AdenoCA::S.6_aug_0  \\\n",
       "0                              57                             117   \n",
       "1                              27                              54   \n",
       "2                               6                               9   \n",
       "3                              18                              42   \n",
       "4                              24                              54   \n",
       "\n",
       "   SP.Syn.Panc-AdenoCA::S.7_aug_0  SP.Syn.Panc-AdenoCA::S.8_aug_0  \\\n",
       "0                             109                              61   \n",
       "1                              63                              50   \n",
       "2                              15                               9   \n",
       "3                              47                              42   \n",
       "4                              68                              48   \n",
       "\n",
       "   SP.Syn.Panc-AdenoCA::S.9_aug_0  SP.Syn.Panc-AdenoCA::S.10_aug_0  ...  \\\n",
       "0                             133                               10  ...   \n",
       "1                              72                                6  ...   \n",
       "2                              11                                0  ...   \n",
       "3                              73                                6  ...   \n",
       "4                              53                               15  ...   \n",
       "\n",
       "   SP.Syn.Panc-AdenoCA::S.991_aug_9  SP.Syn.Panc-AdenoCA::S.992_aug_9  \\\n",
       "0                                92                               125   \n",
       "1                                70                                55   \n",
       "2                                16                                 9   \n",
       "3                                50                                53   \n",
       "4                                44                                34   \n",
       "\n",
       "   SP.Syn.Panc-AdenoCA::S.993_aug_9  SP.Syn.Panc-AdenoCA::S.994_aug_9  \\\n",
       "0                               218                                56   \n",
       "1                                71                                22   \n",
       "2                                15                                 4   \n",
       "3                               108                                39   \n",
       "4                                 8                                20   \n",
       "\n",
       "   SP.Syn.Panc-AdenoCA::S.995_aug_9  SP.Syn.Panc-AdenoCA::S.996_aug_9  \\\n",
       "0                                88                               150   \n",
       "1                                41                                57   \n",
       "2                                 8                                 6   \n",
       "3                                45                                76   \n",
       "4                                35                                58   \n",
       "\n",
       "   SP.Syn.Panc-AdenoCA::S.997_aug_9  SP.Syn.Panc-AdenoCA::S.998_aug_9  \\\n",
       "0                                17                                17   \n",
       "1                                18                                13   \n",
       "2                                 2                                 5   \n",
       "3                                17                                 8   \n",
       "4                                16                                23   \n",
       "\n",
       "   SP.Syn.Panc-AdenoCA::S.999_aug_9  SP.Syn.Panc-AdenoCA::S.1000_aug_9  \n",
       "0                               202                                 41  \n",
       "1                               101                                 25  \n",
       "2                                29                                  5  \n",
       "3                               105                                 23  \n",
       "4                               118                                 23  \n",
       "\n",
       "[5 rows x 10000 columns]"
      ]
     },
     "execution_count": 3,
     "metadata": {},
     "output_type": "execute_result"
    }
   ],
   "source": [
    "# Augment the data\n",
    "\n",
    "data_augmented = data_augmentation(X = data, augmentation = 10)\n",
    "\n",
    "\n",
    "data_augmented.head()\n"
   ]
  },
  {
   "cell_type": "code",
   "execution_count": 4,
   "metadata": {},
   "outputs": [],
   "source": [
    "# Signature extraction\n",
    "\n",
    "SIGNATURES = 11\n",
    "\n",
    "data = data.T\n",
    "data_augmented = data_augmented.T \n",
    "\n",
    "HybridAE = MUSE_Ae.HybridAutoencoder(\n",
    "    input_dim = 96,\n",
    "    l_1 = 128,\n",
    "    z = SIGNATURES,\n",
    "    refit = False,\n",
    "    constraint = 'pg'\n",
    ")"
   ]
  },
  {
   "cell_type": "code",
   "execution_count": 5,
   "metadata": {},
   "outputs": [
    {
     "name": "stdout",
     "output_type": "stream",
     "text": [
      "Epoch 100/3000 - Training Loss: -3100757.120750 - Validation Loss: -24263376.000000\n",
      "Epoch 200/3000 - Training Loss: -3123113.205250 - Validation Loss: -24438964.000000\n",
      "Epoch 300/3000 - Training Loss: -3124932.266050 - Validation Loss: -24451822.000000\n",
      "Early stopping at epoch 327\n"
     ]
    },
    {
     "name": "stderr",
     "output_type": "stream",
     "text": [
      "/home/nicovis/Projects/DeepLearningProject/models/MUSE/MUSE_Extraction.py:177: FutureWarning: You are using `torch.load` with `weights_only=False` (the current default value), which uses the default pickle module implicitly. It is possible to construct malicious pickle data which will execute arbitrary code during unpickling (See https://github.com/pytorch/pytorch/blob/main/SECURITY.md#untrusted-models for more details). In a future release, the default value for `weights_only` will be flipped to `True`. This limits the functions that could be executed during unpickling. Arbitrary objects will no longer be allowed to be loaded via this mode unless they are explicitly allowlisted by the user via `torch.serialization.add_safe_globals`. We recommend you start setting `weights_only=True` for any use case where you don't have full control of the loaded file. Please open an issue on GitHub for any issues related to this experimental feature.\n",
      "  model.load_state_dict(torch.load(best_model_path))\n"
     ]
    }
   ],
   "source": [
    "# Train the model for signature extraction\n",
    "\n",
    "error, S, train_loss, val_loss = MUSE_Extraction.train_model_for_extraction(model = HybridAE,\n",
    "                                                                            X_aug_multi_scaled = data_augmented,\n",
    "                                                                            X_scaled = data,\n",
    "                                                                            signatures = SIGNATURES,\n",
    "                                                                            epochs = 3000,\n",
    "                                                                            batch_size = 128,\n",
    "                                                                            save_to = 'test',\n",
    "                                                                            iteration = 1,\n",
    "                                                                            patience = 30)"
   ]
  },
  {
   "cell_type": "code",
   "execution_count": 6,
   "metadata": {},
   "outputs": [
    {
     "data": {
      "image/png": "[encoded data removed]",
      "text/plain": [
       "<Figure size 640x480 with 1 Axes>"
      ]
     },
     "metadata": {},
     "output_type": "display_data"
    }
   ],
   "source": [
    "plt.plot(train_loss)\n",
    "plt.plot(val_loss)\n",
    "plt.show()"
   ]
  },
  {
   "cell_type": "code",
   "execution_count": 7,
   "metadata": {},
   "outputs": [
    {
     "name": "stdout",
     "output_type": "stream",
     "text": [
      "[[0.38 0.01 0.08 ... 1.17 2.05 0.  ]\n",
      " [0.58 0.   0.04 ... 0.48 1.57 0.01]\n",
      " [0.07 0.   0.01 ... 0.17 0.16 0.  ]\n",
      " ...\n",
      " [0.19 0.   0.32 ... 0.7  0.63 0.07]\n",
      " [0.36 0.   0.14 ... 0.49 0.75 0.04]\n",
      " [0.74 0.   3.87 ... 0.73 0.83 0.96]]\n",
      "3391.5376778267237\n"
     ]
    }
   ],
   "source": [
    "\n",
    "\n",
    "print(np.round(S, 2))\n",
    "\n",
    "print(error)"
   ]
  },
  {
   "cell_type": "code",
   "execution_count": 8,
   "metadata": {},
   "outputs": [],
   "source": [
    "device = torch.device(\"cuda\" if torch.cuda.is_available() else \"cpu\")  # Detect device\n",
    "\n",
    "E = HybridAE.return_encoder_model().to(device)  # Move model to correct device\n",
    "data_tensor = torch.tensor(data_augmented.values, dtype=torch.float32).to(device)  # Move data to the same device\n",
    "\n",
    "E = E(data_tensor)  # Perform forward pass"
   ]
  },
  {
   "cell_type": "code",
   "execution_count": 9,
   "metadata": {},
   "outputs": [],
   "source": [
    "E = E[0].detach().cpu().numpy()  # Move data back to CPU and convert to numpy array"
   ]
  },
  {
   "cell_type": "code",
   "execution_count": 10,
   "metadata": {},
   "outputs": [
    {
     "name": "stdout",
     "output_type": "stream",
     "text": [
      "(10000, 11)\n",
      "(96, 11)\n"
     ]
    }
   ],
   "source": [
    "print(np.shape(E))\n",
    "print(np.shape(S))\n",
    "\n",
    "Reconstructed = np.dot(E, S.T)"
   ]
  },
  {
   "cell_type": "code",
   "execution_count": 11,
   "metadata": {},
   "outputs": [
    {
     "name": "stdout",
     "output_type": "stream",
     "text": [
      "13037.870339733792\n"
     ]
    }
   ],
   "source": [
    "# Frobenius norm between the original and the reconstructed data\n",
    "\n",
    "error = np.linalg.norm(data_augmented.values - Reconstructed, 'fro')\n",
    "\n",
    "print(error)"
   ]
  },
  {
   "cell_type": "code",
   "execution_count": 12,
   "metadata": {},
   "outputs": [
    {
     "name": "stdout",
     "output_type": "stream",
     "text": [
      "[[157.39056    72.90996    13.039179  ...  33.810276   33.412243\n",
      "   62.95082  ]\n",
      " [ 89.542885   53.998642   10.456029  ...  40.54665    35.6304\n",
      "   83.163666 ]\n",
      " [166.83344   104.48919    22.15882   ...  84.65355    76.80839\n",
      "  164.31032  ]\n",
      " ...\n",
      " [ 16.839373   13.496805    2.2024405 ...   7.7144156   8.746915\n",
      "   14.635471 ]\n",
      " [184.75278   105.54315    21.911924  ...  85.289444   73.40191\n",
      "  189.83192  ]\n",
      " [ 45.97504    33.696255    4.3493614 ...  32.685383   24.428766\n",
      "  265.16568  ]]\n"
     ]
    }
   ],
   "source": [
    "print(Reconstructed)"
   ]
  }
 ],
 "metadata": {
  "kernelspec": {
   "display_name": "DL_GENOMICS",
   "language": "python",
   "name": "python3"
  },
  "language_info": {
   "codemirror_mode": {
    "name": "ipython",
    "version": 3
   },
   "file_extension": ".py",
   "mimetype": "text/x-python",
   "name": "python",
   "nbconvert_exporter": "python",
   "pygments_lexer": "ipython3",
   "version": "3.12.8"
  }
 },
 "nbformat": 4,
 "nbformat_minor": 2
}
