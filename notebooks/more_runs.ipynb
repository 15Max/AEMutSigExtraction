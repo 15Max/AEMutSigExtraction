{
 "cells": [
  {
   "cell_type": "code",
   "execution_count": 1,
   "metadata": {},
   "outputs": [
    {
     "data": {
      "text/plain": [
       "<torch._C.Generator at 0x26c2a6eaa70>"
      ]
     },
     "execution_count": 1,
     "metadata": {},
     "output_type": "execute_result"
    }
   ],
   "source": [
    "import os\n",
    "import pandas as pd \n",
    "import numpy as np\n",
    "import matplotlib.pyplot as plt\n",
    "import torch.nn as nn\n",
    "import torch.optim as optim\n",
    "import torch\n",
    "from sklearn.model_selection import train_test_split\n",
    "from utils.functions import *\n",
    "from utils import COSMIC_validation\n",
    "from models import AE_NMF\n",
    "import seaborn as sns\n",
    "from tqdm import tqdm\n",
    "from sklearn_extra.cluster import KMedoids\n",
    "\n",
    "# set seed\n",
    "np.random.seed(15)\n",
    "torch.manual_seed(15)"
   ]
  },
  {
   "cell_type": "code",
   "execution_count": 2,
   "metadata": {},
   "outputs": [],
   "source": [
    "# Load the .tsv file\n",
    "data = pd.read_csv(\"data/GEL_data/catalogues_Ovary_SBS.tsv\", sep=\"\\t\")"
   ]
  },
  {
   "cell_type": "code",
   "execution_count": 3,
   "metadata": {},
   "outputs": [],
   "source": [
    "LATENT_DIM = 4\n",
    "CONSTRAINT = 'abs'\n",
    "CRITERION = nn.MSELoss()\n",
    "TOLERANCE = 1e-10\n",
    "MAX_ITERATIONS = 100_000_000"
   ]
  },
  {
   "cell_type": "code",
   "execution_count": 4,
   "metadata": {},
   "outputs": [],
   "source": [
    "COSMIC = pd.read_csv(\"data/COSMIC_v3.4_SBS_GRCh37.txt\", sep=\"\\t\")\n",
    "COSMIC = COSMIC.drop(columns = [\"Type\"])"
   ]
  },
  {
   "cell_type": "code",
   "execution_count": 5,
   "metadata": {},
   "outputs": [],
   "source": [
    "all_sigs_df = pd.DataFrame()"
   ]
  },
  {
   "cell_type": "code",
   "execution_count": 6,
   "metadata": {},
   "outputs": [],
   "source": [
    "n_signatures = []\n",
    "similarities = []\n",
    "\n",
    "for i in range(10):\n",
    "    # We need to transpose the data because the colums contain the patient data and the rows contain the specifc mutations\n",
    "    train, test = train_test_split(data.T, test_size=0.2)\n",
    "\n",
    "\n",
    "    train = train.T\n",
    "    test = test.T\n",
    "\n",
    "    #print(train.shape)\n",
    "    #print(test.shape)\n",
    "    training_data = pd.DataFrame(train)\n",
    "    test_data = pd.DataFrame(test)\n",
    "    \n",
    "    INPUT_DIM = train.shape[1]\n",
    "\n",
    "    AE_NMF_model = AE_NMF.AE_NMF(input_dim=INPUT_DIM, \n",
    "                            latent_dim=LATENT_DIM, \n",
    "                            constraint=CONSTRAINT,\n",
    "                            xavier=False)\n",
    "    OPTIMIZER = optim.Adam(AE_NMF_model.parameters(), lr=1e-3)\n",
    "\n",
    "    AE_NMF_model = AE_NMF.train(model=AE_NMF_model,\n",
    "                        training_data=training_data,\n",
    "                        criterion=CRITERION,\n",
    "                        optimizer=OPTIMIZER,\n",
    "                        tol=TOLERANCE,\n",
    "                        relative_tol=True,\n",
    "                        max_iter=MAX_ITERATIONS\n",
    "                        )\n",
    "    \n",
    "    train_loss = AE_NMF_model[1]\n",
    "    AENMF_sig = AE_NMF_model[2]\n",
    "    AENMF_exp = AE_NMF_model[3]\n",
    "    enc_mat = AE_NMF_model[4]\n",
    "\n",
    "    diagonals = AENMF_sig.sum(axis = 0)\n",
    "    AENMF_exp = np.diag(diagonals)@AENMF_exp\n",
    "    AENMF_sig = AENMF_sig@np.diag(1/diagonals)\n",
    "\n",
    "    n_signatures.append(AENMF_sig)\n",
    "    \n",
    "    \n",
    "\n"
   ]
  },
  {
   "cell_type": "code",
   "execution_count": 7,
   "metadata": {},
   "outputs": [],
   "source": [
    "all_signatures = np.hstack(n_signatures)\n"
   ]
  },
  {
   "cell_type": "code",
   "execution_count": 8,
   "metadata": {},
   "outputs": [],
   "source": [
    "num_clusters = 4"
   ]
  },
  {
   "cell_type": "code",
   "execution_count": 9,
   "metadata": {},
   "outputs": [],
   "source": [
    "pam = KMedoids(n_clusters=num_clusters, metric='cosine', random_state=15).fit(all_signatures.T)\n",
    "consensus_signatures = all_signatures[:, pam.medoid_indices_]"
   ]
  },
  {
   "cell_type": "code",
   "execution_count": 10,
   "metadata": {},
   "outputs": [
    {
     "data": {
      "text/plain": [
       "(96, 4)"
      ]
     },
     "execution_count": 10,
     "metadata": {},
     "output_type": "execute_result"
    }
   ],
   "source": [
    "consensus_signatures.shape"
   ]
  },
  {
   "cell_type": "code",
   "execution_count": 11,
   "metadata": {},
   "outputs": [],
   "source": [
    "match = COSMIC_validation.compute_cosmic_match(consensus_signatures, COSMIC)"
   ]
  },
  {
   "cell_type": "code",
   "execution_count": 12,
   "metadata": {},
   "outputs": [
    {
     "data": {
      "text/html": [
       "<div>\n",
       "<style scoped>\n",
       "    .dataframe tbody tr th:only-of-type {\n",
       "        vertical-align: middle;\n",
       "    }\n",
       "\n",
       "    .dataframe tbody tr th {\n",
       "        vertical-align: top;\n",
       "    }\n",
       "\n",
       "    .dataframe thead th {\n",
       "        text-align: right;\n",
       "    }\n",
       "</style>\n",
       "<table border=\"1\" class=\"dataframe\">\n",
       "  <thead>\n",
       "    <tr style=\"text-align: right;\">\n",
       "      <th></th>\n",
       "      <th>Extracted signature</th>\n",
       "      <th>SBS_COSMIC</th>\n",
       "      <th>similarity</th>\n",
       "    </tr>\n",
       "  </thead>\n",
       "  <tbody>\n",
       "    <tr>\n",
       "      <th>0</th>\n",
       "      <td>0</td>\n",
       "      <td>SBS3</td>\n",
       "      <td>0.758769</td>\n",
       "    </tr>\n",
       "    <tr>\n",
       "      <th>1</th>\n",
       "      <td>1</td>\n",
       "      <td>SBS40c</td>\n",
       "      <td>0.581038</td>\n",
       "    </tr>\n",
       "    <tr>\n",
       "      <th>2</th>\n",
       "      <td>2</td>\n",
       "      <td>SBS34</td>\n",
       "      <td>0.700078</td>\n",
       "    </tr>\n",
       "    <tr>\n",
       "      <th>3</th>\n",
       "      <td>3</td>\n",
       "      <td>SBS40b</td>\n",
       "      <td>0.576385</td>\n",
       "    </tr>\n",
       "  </tbody>\n",
       "</table>\n",
       "</div>"
      ],
      "text/plain": [
       "   Extracted signature SBS_COSMIC  similarity\n",
       "0                    0       SBS3    0.758769\n",
       "1                    1     SBS40c    0.581038\n",
       "2                    2      SBS34    0.700078\n",
       "3                    3     SBS40b    0.576385"
      ]
     },
     "execution_count": 12,
     "metadata": {},
     "output_type": "execute_result"
    }
   ],
   "source": [
    "match"
   ]
  }
 ],
 "metadata": {
  "kernelspec": {
   "display_name": "DL_GENOMICS",
   "language": "python",
   "name": "python3"
  },
  "language_info": {
   "codemirror_mode": {
    "name": "ipython",
    "version": 3
   },
   "file_extension": ".py",
   "mimetype": "text/x-python",
   "name": "python",
   "nbconvert_exporter": "python",
   "pygments_lexer": "ipython3",
   "version": "3.11.11"
  }
 },
 "nbformat": 4,
 "nbformat_minor": 2
}
