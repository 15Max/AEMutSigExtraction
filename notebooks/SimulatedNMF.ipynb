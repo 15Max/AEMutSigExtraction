{
 "cells": [
  {
   "cell_type": "markdown",
   "metadata": {},
   "source": [
    "# Libraries"
   ]
  },
  {
   "cell_type": "code",
   "execution_count": 1,
   "metadata": {},
   "outputs": [],
   "source": [
    "import os\n",
    "\n",
    "# go up one directory\n",
    "os.chdir(\"..\")\n",
    "\n",
    "import pandas as pd \n",
    "import numpy as np\n",
    "from sklearn.model_selection import train_test_split\n",
    "from tqdm import tqdm\n",
    "from sklearn_extra.cluster import KMedoids\n",
    "from functions import cosmic_val\n",
    "from models.nmf import NMF_mult_tol\n",
    "from sklearn.decomposition import NMF as nmf_sklearn\n",
    "import matplotlib.pyplot as plt\n"
   ]
  },
  {
   "cell_type": "markdown",
   "metadata": {},
   "source": [
    "# Data and common initial exposure"
   ]
  },
  {
   "cell_type": "code",
   "execution_count": 2,
   "metadata": {},
   "outputs": [],
   "source": [
    "N = 10\n",
    "LATENT_DIM = 2\n",
    "TOLERANCE = 1e-10\n",
    "MAX_ITERATIONS = 100_000_000"
   ]
  },
  {
   "cell_type": "markdown",
   "metadata": {},
   "source": [
    "The data comes from various poisson and is a matrix of shape $(30,6)$"
   ]
  },
  {
   "cell_type": "code",
   "execution_count": 3,
   "metadata": {},
   "outputs": [],
   "source": [
    "signature1 = np.array([2]*2 + [1]*2 + [0]*2) / 6\n",
    "signature2 = np.array([0]*3 + [2]*3) / 6\n",
    "signature_mat = np.vstack((signature1, signature2))\n",
    "total_n = 3 * N\n",
    "exposures = np.array([180, 20] * N + [100, 100] * N + [20, 180] * N).reshape(total_n, 2)\n",
    "XMat1 = np.random.poisson(180 * signature1 + 20 * signature2, size=(N, 6))\n",
    "XMat2 = np.random.poisson(100 * signature1 + 100 * signature2, size=(N, 6))\n",
    "XMat3 = np.random.poisson(20 * signature1 + 180 * signature2, size=(N, 6))\n",
    "XMat = np.concatenate((XMat1, XMat2, XMat3))"
   ]
  },
  {
   "cell_type": "code",
   "execution_count": 4,
   "metadata": {},
   "outputs": [
    {
     "name": "stdout",
     "output_type": "stream",
     "text": [
      "(30, 6)\n"
     ]
    }
   ],
   "source": [
    "XMat_pd = pd.DataFrame(XMat)\n",
    "XMat_pd.head()\n",
    "\n",
    "print(XMat_pd.shape)\n",
    "\n",
    "XMat_pd = XMat_pd.T"
   ]
  },
  {
   "cell_type": "code",
   "execution_count": 5,
   "metadata": {},
   "outputs": [
    {
     "name": "stdout",
     "output_type": "stream",
     "text": [
      "(30, 2)\n"
     ]
    }
   ],
   "source": [
    "E_init = np.random.rand(XMat.shape[0], LATENT_DIM)\n",
    "\n",
    "print(E_init.shape)"
   ]
  },
  {
   "cell_type": "markdown",
   "metadata": {},
   "source": [
    "# Testing"
   ]
  },
  {
   "cell_type": "code",
   "execution_count": 6,
   "metadata": {},
   "outputs": [
    {
     "name": "stderr",
     "output_type": "stream",
     "text": [
      "100%|██████████| 100/100 [00:02<00:00, 47.91it/s]\n"
     ]
    }
   ],
   "source": [
    "losses_train = []\n",
    "iterations = 100\n",
    "\n",
    "\n",
    "for i in tqdm(range(iterations)):\n",
    "    \n",
    "    # Applying NMF\n",
    "    signatures_nmf, exposures_nmf, loss_nmf, _, _, n_iter_nmf = NMF_mult_tol(XMat_pd.to_numpy(),\n",
    "                                                                             rank = LATENT_DIM,\n",
    "                                                                             tol = TOLERANCE,\n",
    "                                                                             mse=True,\n",
    "                                                                             G_0 = E_init.T)\n",
    "\n",
    "    # Calculating signatures and exposures for NMF\n",
    "    diagonals_nmf = signatures_nmf.sum(axis=0)\n",
    "    exposures_nmf = exposures_nmf.T @ np.diag(diagonals_nmf)\n",
    "    signatures_nmf = (signatures_nmf) @ np.diag(1 / diagonals_nmf)\n",
    "    \n",
    "    losses_train.append(loss_nmf[-1])\n",
    "    \n",
    "\n"
   ]
  },
  {
   "cell_type": "code",
   "execution_count": 7,
   "metadata": {},
   "outputs": [
    {
     "name": "stdout",
     "output_type": "stream",
     "text": [
      "Losses train:  23.705507948396853\n"
     ]
    }
   ],
   "source": [
    "print(\"Losses train: \", np.mean(losses_train))"
   ]
  },
  {
   "cell_type": "code",
   "execution_count": 8,
   "metadata": {},
   "outputs": [
    {
     "name": "stdout",
     "output_type": "stream",
     "text": [
      "[[0.00693442 0.34627321]\n",
      " [0.01479114 0.32038488]\n",
      " [0.01129534 0.14186093]\n",
      " [0.33664735 0.16997744]\n",
      " [0.30477861 0.01707972]\n",
      " [0.32555315 0.00442382]]\n"
     ]
    }
   ],
   "source": [
    "print(signatures_nmf)"
   ]
  }
 ],
 "metadata": {
  "kernelspec": {
   "display_name": "DL_GENOMICS",
   "language": "python",
   "name": "python3"
  },
  "language_info": {
   "codemirror_mode": {
    "name": "ipython",
    "version": 3
   },
   "file_extension": ".py",
   "mimetype": "text/x-python",
   "name": "python",
   "nbconvert_exporter": "python",
   "pygments_lexer": "ipython3",
   "version": "3.12.8"
  }
 },
 "nbformat": 4,
 "nbformat_minor": 2
}
