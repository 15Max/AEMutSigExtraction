{
 "cells": [
  {
   "cell_type": "markdown",
   "metadata": {},
   "source": [
    "# Libraries"
   ]
  },
  {
   "cell_type": "code",
   "execution_count": 1,
   "metadata": {},
   "outputs": [],
   "source": [
    "import os\n",
    "\n",
    "# go up one directory\n",
    "os.chdir(\"..\")\n",
    "\n",
    "import pandas as pd \n",
    "import numpy as np\n",
    "from tqdm import tqdm\n",
    "from sklearn_extra.cluster import KMedoids\n",
    "from sklearn.decomposition import PCA\n",
    "from functions import cosmic_val\n",
    "from functions.graph_tools import *\n",
    "from functions.data_handling import data_augmentation\n",
    "from models.muse import *\n",
    "from functions import cosmic_val\n",
    "from functions import data_handling as dh\n",
    "from tqdm import tqdm\n",
    "import torch.optim as optim\n",
    "import torch.nn as nn\n",
    "\n",
    "# set seed\n",
    "# np.random.seed(15)\n",
    "# torch.manual_seed(15)"
   ]
  },
  {
   "cell_type": "markdown",
   "metadata": {},
   "source": [
    "# Data"
   ]
  },
  {
   "cell_type": "code",
   "execution_count": 2,
   "metadata": {},
   "outputs": [],
   "source": [
    "data_path = \"data/catalogues_Ovary_SBS.tsv\"\n",
    "cosmic_path = \"data/COSMIC_v3.4_SBS_GRCh37.txt\"\n",
    "output_folder = \"data/processed\"\n",
    "output_filename = \"Ordered_Ovary_SBS.csv\"\n",
    "ordered_data_path = os.path.join(output_folder, output_filename)"
   ]
  },
  {
   "cell_type": "code",
   "execution_count": 3,
   "metadata": {},
   "outputs": [
    {
     "name": "stdout",
     "output_type": "stream",
     "text": [
      "Data already exists in  data/processed/Ordered_Ovary_SBS.csv\n"
     ]
    }
   ],
   "source": [
    "dh.load_preprocess_data(data_path, cosmic_path, sep1 = \"\\t\", sep2 = \"\\t\", output_folder = output_folder, output_filename = output_filename)"
   ]
  },
  {
   "cell_type": "code",
   "execution_count": 4,
   "metadata": {},
   "outputs": [],
   "source": [
    "# load data\n",
    "data = pd.read_csv(ordered_data_path, index_col = 0)\n",
    "cosmic = pd.read_csv(cosmic_path, sep = \"\\t\", index_col = 0)"
   ]
  },
  {
   "cell_type": "code",
   "execution_count": 5,
   "metadata": {},
   "outputs": [],
   "source": [
    "L_ONE = 128\n",
    "TOLERANCE = 1e-10\n",
    "CONSTRAINT = 'identity'"
   ]
  },
  {
   "cell_type": "code",
   "execution_count": 6,
   "metadata": {},
   "outputs": [
    {
     "name": "stderr",
     "output_type": "stream",
     "text": [
      "  0%|          | 0/1 [00:00<?, ?it/s]/home/nicovis/Projects/DeepLearningProject/models/muse.py:367: FutureWarning: You are using `torch.load` with `weights_only=False` (the current default value), which uses the default pickle module implicitly. It is possible to construct malicious pickle data which will execute arbitrary code during unpickling (See https://github.com/pytorch/pytorch/blob/main/SECURITY.md#untrusted-models for more details). In a future release, the default value for `weights_only` will be flipped to `True`. This limits the functions that could be executed during unpickling. Arbitrary objects will no longer be allowed to be loaded via this mode unless they are explicitly allowlisted by the user via `torch.serialization.add_safe_globals`. We recommend you start setting `weights_only=True` for any use case where you don't have full control of the loaded file. Please open an issue on GitHub for any issues related to this experimental feature.\n",
      "  model.load_state_dict(torch.load(best_model_path))\n",
      "100%|██████████| 1/1 [03:08<00:00, 188.74s/it]"
     ]
    },
    {
     "name": "stdout",
     "output_type": "stream",
     "text": [
      "Early stopping at epoch 144\n"
     ]
    },
    {
     "name": "stderr",
     "output_type": "stream",
     "text": [
      "\n"
     ]
    }
   ],
   "source": [
    "from collections import defaultdict\n",
    "import pandas as pd\n",
    "import numpy as np\n",
    "\n",
    "# Dictionary of lists: {k: [iterations]}\n",
    "results_dict = defaultdict(list)\n",
    "\n",
    "losses_train = []\n",
    "signatures = []\n",
    "iterations = 1\n",
    "k_range = 3\n",
    "\n",
    "augmented_data = data_augmentation(X=data, augmentation=30)\n",
    "\n",
    "for u in tqdm(range(2, k_range)):\n",
    "    for i in range(iterations):\n",
    "        \n",
    "        k = 4\n",
    "        muse_model = HybridAutoencoder(input_dim=data.shape[0],  # 96\n",
    "                                        l_1=L_ONE,\n",
    "                                        latent_dim=k,\n",
    "                                        weights = 'xavier')\n",
    "\n",
    "        # Training MUSE\n",
    "        muse_error, muse_signatures, muse_exposures, muse_train_loss, muse_val_loss = train_model_for_extraction(\n",
    "            model=muse_model,\n",
    "            X_aug_multi_scaled=augmented_data.T,\n",
    "            X_scaled=data.T,\n",
    "            signatures=k,\n",
    "            epochs=2000,\n",
    "            batch_size=64,\n",
    "            save_to='muse_test',\n",
    "            iteration=i,\n",
    "            patience=30,\n",
    "            beta = 0.001\n",
    "        )\n",
    "\n",
    "        # Normalize signatures\n",
    "        diagonals_muse = muse_signatures.sum(axis=0)\n",
    "        muse_exposures = muse_exposures.T @ np.diag(diagonals_muse)\n",
    "        muse_signatures = muse_signatures @ np.diag(1 / diagonals_muse)\n",
    "\n",
    "        # Store results\n",
    "        losses_train.append(muse_train_loss)\n",
    "        signatures.append(muse_signatures)\n",
    "\n",
    "        # Store data in structured format\n",
    "        results_dict[k].append({\n",
    "            \"iteration\": i,\n",
    "            \"muse_error\": muse_error,\n",
    "            \"muse_signatures\": muse_signatures  # Keep as NumPy array for easier processing\n",
    "        })\n",
    "\n",
    "    # Convert dictionary into a DataFrame for better analysis\n",
    "    df_results = pd.DataFrame([\n",
    "    {\"k\": k, \"iteration\": entry[\"iteration\"], \"muse_error\": entry[\"muse_error\"], \"muse_signatures\": entry[\"muse_signatures\"]}\n",
    "    for k, entries in results_dict.items()\n",
    "    for entry in entries\n",
    "    ])\n"
   ]
  },
  {
   "cell_type": "code",
   "execution_count": 7,
   "metadata": {},
   "outputs": [
    {
     "name": "stdout",
     "output_type": "stream",
     "text": [
      "488530.5533854167\n"
     ]
    }
   ],
   "source": [
    "print(np.mean(muse_val_loss))"
   ]
  },
  {
   "cell_type": "code",
   "execution_count": 8,
   "metadata": {},
   "outputs": [],
   "source": [
    "all_signatures = np.hstack(signatures)"
   ]
  },
  {
   "cell_type": "code",
   "execution_count": 9,
   "metadata": {},
   "outputs": [
    {
     "name": "stdout",
     "output_type": "stream",
     "text": [
      "(96, 4)\n"
     ]
    }
   ],
   "source": [
    "print(all_signatures.shape)"
   ]
  },
  {
   "cell_type": "code",
   "execution_count": 10,
   "metadata": {},
   "outputs": [],
   "source": [
    "pam = KMedoids(n_clusters = k, metric='cosine').fit(all_signatures.T)\n",
    "labels = pam.labels_\n",
    "medoid_indices = pam.medoid_indices_\n",
    "consensus_signatures = all_signatures[:, medoid_indices]"
   ]
  },
  {
   "cell_type": "code",
   "execution_count": 11,
   "metadata": {},
   "outputs": [],
   "source": [
    "matched_signatures, mean_similarity = cosmic_val.compute_match(consensus_signatures, cosmic, index = 0)"
   ]
  },
  {
   "cell_type": "code",
   "execution_count": 12,
   "metadata": {},
   "outputs": [
    {
     "name": "stdout",
     "output_type": "stream",
     "text": [
      "   Extracted_0  True_0  Similarity_0\n",
      "0            0  SBS10a      0.925463\n",
      "1            1   SBS44      0.687106\n",
      "2            2  SBS10c      0.756927\n",
      "3            3    SBS3      0.809602\n",
      "\n",
      "Mean similarity of the matched signatures:  0.7947746129920017\n"
     ]
    }
   ],
   "source": [
    "print(matched_signatures)\n",
    "print(\"\\nMean similarity of the matched signatures: \", mean_similarity)"
   ]
  },
  {
   "cell_type": "code",
   "execution_count": 13,
   "metadata": {},
   "outputs": [
    {
     "ename": "NameError",
     "evalue": "name 'j' is not defined",
     "output_type": "error",
     "traceback": [
      "\u001b[0;31m---------------------------------------------------------------------------\u001b[0m",
      "\u001b[0;31mNameError\u001b[0m                                 Traceback (most recent call last)",
      "Cell \u001b[0;32mIn[13], line 2\u001b[0m\n\u001b[1;32m      1\u001b[0m reduced_signatures \u001b[38;5;241m=\u001b[39m PCA(n_components\u001b[38;5;241m=\u001b[39m\u001b[38;5;241m2\u001b[39m)\u001b[38;5;241m.\u001b[39mfit_transform(all_signatures\u001b[38;5;241m.\u001b[39mT)\n\u001b[0;32m----> 2\u001b[0m plot_clusters(reduced_signatures, labels, medoid_indices, \u001b[43mj\u001b[49m, \u001b[38;5;124m\"\u001b[39m\u001b[38;5;124mAENMF signature clusters\u001b[39m\u001b[38;5;124m\"\u001b[39m)\n",
      "\u001b[0;31mNameError\u001b[0m: name 'j' is not defined"
     ]
    }
   ],
   "source": [
    "reduced_signatures = PCA(n_components=2).fit_transform(all_signatures.T)\n",
    "plot_clusters(reduced_signatures, labels, medoid_indices, j, \"AENMF signature clusters\")"
   ]
  },
  {
   "cell_type": "code",
   "execution_count": null,
   "metadata": {},
   "outputs": [],
   "source": [
    "df_consensus = pd.DataFrame(consensus_signatures, index = data.index)"
   ]
  },
  {
   "cell_type": "code",
   "execution_count": null,
   "metadata": {},
   "outputs": [],
   "source": [
    "plot_signature(df_consensus, \"AENMF consensus signatures\")"
   ]
  }
 ],
 "metadata": {
  "kernelspec": {
   "display_name": "DL_GENOMICS",
   "language": "python",
   "name": "python3"
  },
  "language_info": {
   "codemirror_mode": {
    "name": "ipython",
    "version": 3
   },
   "file_extension": ".py",
   "mimetype": "text/x-python",
   "name": "python",
   "nbconvert_exporter": "python",
   "pygments_lexer": "ipython3",
   "version": "3.10.16"
  }
 },
 "nbformat": 4,
 "nbformat_minor": 2
}
