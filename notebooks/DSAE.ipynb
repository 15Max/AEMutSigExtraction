{
 "cells": [
  {
   "cell_type": "markdown",
   "metadata": {},
   "source": [
    "# Libraries"
   ]
  },
  {
   "cell_type": "code",
   "execution_count": null,
   "metadata": {},
   "outputs": [],
   "source": [
    "import os\n",
    "\n",
    "# go up one directory\n",
    "os.chdir(\"..\")\n",
    "\n",
    "import pandas as pd \n",
    "import numpy as np\n",
    "from tqdm import tqdm\n",
    "from sklearn.model_selection import train_test_split\n",
    "from sklearn_extra.cluster import KMedoids\n",
    "from functions import cosmic_val\n",
    "from models.denoising import *\n",
    "from functions import cosmic_val\n",
    "from functions import data_handling as dh\n",
    "import torch.nn as nn\n",
    "from torch.utils.data import DataLoader, TensorDataset\n",
    "import torch.optim as optim\n",
    "\n",
    "# set seed\n",
    "# np.random.seed(15)\n",
    "# torch.manual_seed(15)"
   ]
  },
  {
   "cell_type": "markdown",
   "metadata": {},
   "source": [
    "# Data"
   ]
  },
  {
   "cell_type": "code",
   "execution_count": 2,
   "metadata": {},
   "outputs": [],
   "source": [
    "data_path = \"data/catalogues_Ovary_SBS.tsv\"\n",
    "cosmic_path = \"data/COSMIC_v3.4_SBS_GRCh37.txt\"\n",
    "output_folder = \"data/processed\"\n",
    "output_filename = \"Ordered_Ovary_SBS.csv\"\n",
    "ordered_data_path = os.path.join(output_folder, output_filename)"
   ]
  },
  {
   "cell_type": "code",
   "execution_count": null,
   "metadata": {},
   "outputs": [],
   "source": [
    "dh.load_preprocess_data(data_path, cosmic_path, sep1 = \"\\t\", sep2 = \"\\t\", output_folder = output_folder, output_filename = output_filename)"
   ]
  },
  {
   "cell_type": "code",
   "execution_count": 4,
   "metadata": {},
   "outputs": [],
   "source": [
    "# load data\n",
    "data = pd.read_csv(ordered_data_path, index_col = 0)\n",
    "cosmic = pd.read_csv(cosmic_path, sep = \"\\t\", index_col = 0)"
   ]
  },
  {
   "cell_type": "markdown",
   "metadata": {},
   "source": [
    "# Denoising Sparse Autoencoder"
   ]
  },
  {
   "cell_type": "code",
   "execution_count": 5,
   "metadata": {},
   "outputs": [],
   "source": [
    "SIGMA = 3 # standerd deviation of the noise\n",
    "MU = 5 # mean of the noise\n",
    "TEST_SPLIT = 0.2 # proportion of the data used for testing\n",
    "BATCH_SIZE = 32 # batch size for the dataloader"
   ]
  },
  {
   "cell_type": "code",
   "execution_count": 6,
   "metadata": {},
   "outputs": [],
   "source": [
    "LATENT_DIM = 4\n",
    "CRITERION = nn.MSELoss()\n",
    "LEARNING_RATE = 1e-4\n",
    "LAMBDA = 1e-6\n",
    "CONSTRAINT = 'abs'\n",
    "TOLERANCE = 1e-3\n",
    "MAX_ITERS = 100_000_000"
   ]
  },
  {
   "cell_type": "code",
   "execution_count": 22,
   "metadata": {},
   "outputs": [],
   "source": [
    "losses_train = []\n",
    "signatures = []\n",
    "iterations = 1\n",
    "\n",
    "data = data.T\n",
    "noisy_data = add_noise(data, SIGMA, MU)\n",
    "\n",
    "num_samples = data.shape[0]\n",
    "test_size = int(num_samples * TEST_SPLIT)\n",
    "train_size = num_samples - test_size\n",
    "\n",
    "noisy_train = data.iloc[:train_size].T\n",
    "clean_train = data.iloc[:train_size].T\n",
    "noisy_test = data.iloc[train_size:].T\n",
    "clean_test = data.iloc[train_size:].T\n",
    "\n",
    "# Labels are the clean data\n",
    "train_dataset = TensorDataset(torch.tensor(noisy_train.values).float(), torch.tensor(clean_train.values).float())\n",
    "test_dataset = TensorDataset(torch.tensor(noisy_test.values).float(), torch.tensor(clean_test.values).float())"
   ]
  },
  {
   "cell_type": "code",
   "execution_count": null,
   "metadata": {},
   "outputs": [],
   "source": [
    "\n",
    "for i in tqdm(range(iterations)):\n",
    "    \n",
    "    dsae_model = dsae(input_dim = train_size, latent_dim = LATENT_DIM, constraint=CONSTRAINT)\n",
    "    # Training AENMF\n",
    "    dsae_model, dsae_train_losses, signatures_dsae, exposures_dsae = train_dsae(model = dsae_model,\n",
    "                training_data=train_dataset,  \n",
    "                criterion = CRITERION,\n",
    "                optimizer = torch.optim.Adam(dsae_model.parameters(), lr=LEARNING_RATE),\n",
    "                tol = TOLERANCE, \n",
    "                relative_tol=True, \n",
    "                max_iter= MAX_ITERS,\n",
    "                l1_lambda=LAMBDA)    \n",
    "    \n",
    "\n",
    "    # Calculating signatures and exposures for DSAE\n",
    "    diagonals_dsae = signatures_dsae.sum(axis=0)\n",
    "    exposures_dsae = exposures_dsae.T @ np.diag(diagonals_dsae)\n",
    "    signatures_dsae = (signatures_dsae) @ np.diag(1 / diagonals_dsae)\n",
    "    \n",
    "    losses_train.append(dsae_train_losses[-1])\n",
    "    signatures.append(signatures_dsae)\n",
    "\n"
   ]
  },
  {
   "cell_type": "code",
   "execution_count": null,
   "metadata": {},
   "outputs": [],
   "source": [
    "# # Split the data into train and test sets\n",
    "# train_inputs = noisy_data[:, :train_size].T  # Transpose to match (samples, features)\n",
    "# train_targets = clean_data_tensor[:, :train_size].T\n",
    "# test_inputs = noisy_data[:, train_size:].T\n",
    "# test_targets = clean_data_tensor[:, train_size:].T\n",
    "\n",
    "# Training loop\n",
    "for i in tqdm(range(iterations)):\n",
    "    # Initialize the model\n",
    "    dsae_model = dsae(input_dim=clean_data_tensor.shape[0], latent_dim=LATENT_DIM, constraint=CONSTRAINT)\n",
    "\n",
    "    optimizer = optim.Adam(dsae_model.parameters(), lr=LEARNING_RATE)\n",
    "\n",
    "    dsae_model, dsae_train_losses, signatures_dsae, exposures_dsae = train_dsae(\n",
    "        model=dsae_model,\n",
    "        training_data=train_inputs,\n",
    "        criterion=CRITERION,\n",
    "        optimizer=optimizer,\n",
    "        tol=TOLERANCE,\n",
    "        relative_tol=True,\n",
    "        max_iter=MAX_ITERS,\n",
    "        l1_lambda=LAMBDA\n",
    "    )\n",
    "\n",
    "    # Calculate signatures and exposures\n",
    "    diagonals_dsae = signatures_dsae.sum(axis=0)\n",
    "    exposures_dsae = exposures_dsae.T @ np.diag(diagonals_dsae)\n",
    "    signatures_dsae = signatures_dsae @ np.diag(1 / diagonals_dsae)\n",
    "\n",
    "    losses_train.append(dsae_train_losses[-1])\n",
    "    signatures.append(signatures_dsae)\n"
   ]
  },
  {
   "cell_type": "code",
   "execution_count": null,
   "metadata": {},
   "outputs": [],
   "source": [
    "print(\"Losses train: \", np.mean(losses_train))"
   ]
  },
  {
   "cell_type": "code",
   "execution_count": 8,
   "metadata": {},
   "outputs": [],
   "source": [
    "all_signatures = np.hstack(signatures)"
   ]
  },
  {
   "cell_type": "code",
   "execution_count": 9,
   "metadata": {},
   "outputs": [],
   "source": [
    "pam = KMedoids(n_clusters = LATENT_DIM, metric='cosine').fit(all_signatures.T)\n",
    "consensus_signatures = all_signatures[:, pam.medoid_indices_]"
   ]
  },
  {
   "cell_type": "code",
   "execution_count": 10,
   "metadata": {},
   "outputs": [],
   "source": [
    "matched_signatures, mean_similarity = cosmic_val.compute_match(consensus_signatures, cosmic)"
   ]
  },
  {
   "cell_type": "code",
   "execution_count": null,
   "metadata": {},
   "outputs": [],
   "source": [
    "print(matched_signatures.head())\n",
    "print(\"\\nMean similarity of the matched signatures: \", mean_similarity)"
   ]
  }
 ],
 "metadata": {
  "kernelspec": {
   "display_name": "DL_GENOMICS",
   "language": "python",
   "name": "python3"
  },
  "language_info": {
   "codemirror_mode": {
    "name": "ipython",
    "version": 3
   },
   "file_extension": ".py",
   "mimetype": "text/x-python",
   "name": "python",
   "nbconvert_exporter": "python",
   "pygments_lexer": "ipython3",
   "version": "3.11.11"
  }
 },
 "nbformat": 4,
 "nbformat_minor": 2
}
