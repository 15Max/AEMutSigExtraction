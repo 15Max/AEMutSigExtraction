{
 "cells": [
  {
   "cell_type": "markdown",
   "metadata": {},
   "source": [
    "# Libraries"
   ]
  },
  {
   "cell_type": "code",
   "execution_count": 1,
   "metadata": {},
   "outputs": [],
   "source": [
    "import os\n",
    "\n",
    "# go up one directory\n",
    "os.chdir(\"..\")\n",
    "\n",
    "import pandas as pd \n",
    "import numpy as np\n",
    "from tqdm import tqdm\n",
    "from sklearn_extra.cluster import KMedoids\n",
    "from functions import cosmic_val\n",
    "from models.nmf import nmf\n",
    "from functions import cosmic_val\n",
    "from functions import data_handling as dh\n",
    "\n",
    "# set seed\n",
    "# np.random.seed(15)"
   ]
  },
  {
   "cell_type": "markdown",
   "metadata": {},
   "source": [
    "# Data"
   ]
  },
  {
   "cell_type": "code",
   "execution_count": 2,
   "metadata": {},
   "outputs": [],
   "source": [
    "data_path = \"data/catalogues_Ovary_SBS.tsv\"\n",
    "cosmic_path = \"data/COSMIC_v3.4_SBS_GRCh37.txt\"\n",
    "output_folder = \"data/processed\"\n",
    "output_filename = \"Ordered_Ovary_SBS.csv\"\n",
    "ordered_data_path = os.path.join(output_folder, output_filename)"
   ]
  },
  {
   "cell_type": "code",
   "execution_count": 3,
   "metadata": {},
   "outputs": [
    {
     "name": "stdout",
     "output_type": "stream",
     "text": [
      "Data already exists in  data/processed/Ordered_Ovary_SBS.csv\n"
     ]
    }
   ],
   "source": [
    "dh.load_preprocess_data(data_path, cosmic_path, sep1 = \"\\t\", sep2 = \"\\t\", output_folder = output_folder, output_filename = output_filename)"
   ]
  },
  {
   "cell_type": "code",
   "execution_count": 4,
   "metadata": {},
   "outputs": [],
   "source": [
    "# load data\n",
    "data = pd.read_csv(ordered_data_path, index_col = 0)\n",
    "cosmic = pd.read_csv(cosmic_path, sep = \"\\t\", index_col = 0)"
   ]
  },
  {
   "cell_type": "code",
   "execution_count": 5,
   "metadata": {},
   "outputs": [],
   "source": [
    "LATENT_DIM = 4\n",
    "TOLERANCE = 1e-4\n",
    "MAX_ITERATIONS = 100_000_000"
   ]
  },
  {
   "cell_type": "code",
   "execution_count": 6,
   "metadata": {},
   "outputs": [
    {
     "name": "stderr",
     "output_type": "stream",
     "text": [
      "  0%|          | 0/1 [00:00<?, ?it/s]"
     ]
    },
    {
     "name": "stdout",
     "output_type": "stream",
     "text": [
      "Iteration: 1000, Loss: 25523.80839340087\n",
      "Iteration: 2000, Loss: 25233.213169672203\n",
      "Iteration: 3000, Loss: 25122.936496138445\n",
      "Iteration: 4000, Loss: 24933.863403054613\n",
      "Iteration: 5000, Loss: 24679.16749557958\n",
      "Iteration: 6000, Loss: 24345.118698119473\n",
      "Iteration: 7000, Loss: 24041.229797162225\n",
      "Iteration: 8000, Loss: 23914.475780511115\n",
      "Iteration: 9000, Loss: 23707.28445425228\n",
      "Iteration: 10000, Loss: 23130.077992118193\n",
      "Iteration: 11000, Loss: 21168.461676022103\n",
      "Iteration: 12000, Loss: 19555.96152841245\n",
      "Iteration: 13000, Loss: 18439.641946574196\n",
      "Iteration: 14000, Loss: 18400.583728475314\n",
      "Iteration: 15000, Loss: 18384.547311751197\n",
      "Iteration: 16000, Loss: 18372.547627583794\n",
      "Iteration: 17000, Loss: 18365.830249501054\n",
      "Iteration: 18000, Loss: 18359.96704635255\n"
     ]
    },
    {
     "name": "stderr",
     "output_type": "stream",
     "text": [
      "100%|██████████| 1/1 [00:44<00:00, 44.69s/it]\n"
     ]
    }
   ],
   "source": [
    "losses_train = []\n",
    "signatures = []\n",
    "iterations = 1\n",
    "\n",
    "\n",
    "for i in tqdm(range(iterations)):\n",
    "    \n",
    "    # Applying NMF\n",
    "    signatures_nmf, exposures_nmf, loss_nmf = nmf(catalog_matrix = data.to_numpy(),\n",
    "                                                  num_sign = LATENT_DIM,\n",
    "                                                  tol = TOLERANCE,\n",
    "                                                  max_iter = MAX_ITERATIONS)\n",
    "    \n",
    "    # Calculating signatures and exposures for NMF\n",
    "    diagonals_nmf = signatures_nmf.sum(axis=0)\n",
    "    exposures_nmf = exposures_nmf.T @ np.diag(diagonals_nmf)\n",
    "    signatures_nmf = (signatures_nmf) @ np.diag(1 / diagonals_nmf)\n",
    "    \n",
    "    losses_train.append(loss_nmf[-1])\n",
    "    signatures.append(signatures_nmf)\n",
    "\n"
   ]
  },
  {
   "cell_type": "code",
   "execution_count": 7,
   "metadata": {},
   "outputs": [
    {
     "name": "stdout",
     "output_type": "stream",
     "text": [
      "Losses train:  18359.17409443879\n"
     ]
    }
   ],
   "source": [
    "print(\"Losses train: \", np.mean(losses_train))"
   ]
  },
  {
   "cell_type": "code",
   "execution_count": 8,
   "metadata": {},
   "outputs": [],
   "source": [
    "all_signatures = np.hstack(signatures)"
   ]
  },
  {
   "cell_type": "code",
   "execution_count": 9,
   "metadata": {},
   "outputs": [],
   "source": [
    "pam = KMedoids(n_clusters = LATENT_DIM, metric='cosine').fit(all_signatures.T)\n",
    "consensus_signatures = all_signatures[:, pam.medoid_indices_]"
   ]
  },
  {
   "cell_type": "code",
   "execution_count": 10,
   "metadata": {},
   "outputs": [],
   "source": [
    "matched_signatures, mean_similarity = cosmic_val.compute_match(consensus_signatures, cosmic)"
   ]
  },
  {
   "cell_type": "code",
   "execution_count": 11,
   "metadata": {},
   "outputs": [
    {
     "name": "stdout",
     "output_type": "stream",
     "text": [
      "   Extracted    True  Similarity\n",
      "0          0  SBS10c    0.653658\n",
      "1          1   SBS44    0.839025\n",
      "2          2  SBS10a    0.927004\n",
      "3          3  SBS40a    0.728878\n",
      "\n",
      "Mean similarity of the matched signatures:  0.7871412027813725\n"
     ]
    }
   ],
   "source": [
    "print(matched_signatures.head())\n",
    "print(\"\\nMean similarity of the matched signatures: \", mean_similarity)"
   ]
  }
 ],
 "metadata": {
  "kernelspec": {
   "display_name": "DL_GENOMICS",
   "language": "python",
   "name": "python3"
  },
  "language_info": {
   "codemirror_mode": {
    "name": "ipython",
    "version": 3
   },
   "file_extension": ".py",
   "mimetype": "text/x-python",
   "name": "python",
   "nbconvert_exporter": "python",
   "pygments_lexer": "ipython3",
   "version": "3.12.9"
  }
 },
 "nbformat": 4,
 "nbformat_minor": 2
}
