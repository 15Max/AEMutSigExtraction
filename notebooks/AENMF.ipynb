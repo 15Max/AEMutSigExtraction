{
 "cells": [
  {
   "cell_type": "markdown",
   "metadata": {},
   "source": [
    "# Libraries"
   ]
  },
  {
   "cell_type": "code",
   "execution_count": 1,
   "metadata": {},
   "outputs": [],
   "source": [
    "import os\n",
    "\n",
    "# go up one directory\n",
    "os.chdir(\"..\")\n",
    "\n",
    "import pandas as pd \n",
    "import numpy as np\n",
    "from tqdm import tqdm\n",
    "from sklearn.model_selection import train_test_split\n",
    "from sklearn_extra.cluster import KMedoids\n",
    "from functions import cosmic_val\n",
    "from models.aenmf import *\n",
    "from functions import cosmic_val\n",
    "from functions import data_handling as dh\n",
    "import torch.optim as optim\n",
    "import torch.nn as nn\n",
    "\n",
    "# set seed\n",
    "# np.random.seed(15)\n",
    "# torch.manual_seed(15)"
   ]
  },
  {
   "cell_type": "markdown",
   "metadata": {},
   "source": [
    "# Data"
   ]
  },
  {
   "cell_type": "code",
   "execution_count": 2,
   "metadata": {},
   "outputs": [],
   "source": [
    "data_path = \"data/catalogues_Ovary_SBS.tsv\"\n",
    "cosmic_path = \"data/COSMIC_v3.4_SBS_GRCh37.txt\"\n",
    "output_folder = \"data/processed\"\n",
    "output_filename = \"Ordered_Ovary_SBS.csv\"\n",
    "ordered_data_path = os.path.join(output_folder, output_filename)"
   ]
  },
  {
   "cell_type": "code",
   "execution_count": 3,
   "metadata": {},
   "outputs": [
    {
     "name": "stdout",
     "output_type": "stream",
     "text": [
      "Data already exists in  data/processed/Ordered_Ovary_SBS.csv\n"
     ]
    }
   ],
   "source": [
    "dh.load_preprocess_data(data_path, cosmic_path, sep1 = \"\\t\", sep2 = \"\\t\", output_folder = output_folder, output_filename = output_filename)"
   ]
  },
  {
   "cell_type": "code",
   "execution_count": 4,
   "metadata": {},
   "outputs": [],
   "source": [
    "# load data\n",
    "data = pd.read_csv(ordered_data_path, index_col = 0)\n",
    "cosmic = pd.read_csv(cosmic_path, sep = \"\\t\", index_col = 0)"
   ]
  },
  {
   "cell_type": "code",
   "execution_count": 5,
   "metadata": {},
   "outputs": [],
   "source": [
    "LATENT_DIM = 4\n",
    "TOLERANCE = 1e-10\n",
    "MAX_ITERATIONS = 100_000_000\n",
    "CONSTRAINT = 'abs'\n",
    "CRITERION = nn.MSELoss() # consider frobenius norm!"
   ]
  },
  {
   "cell_type": "code",
   "execution_count": 6,
   "metadata": {},
   "outputs": [
    {
     "name": "stderr",
     "output_type": "stream",
     "text": [
      "100%|██████████| 1/1 [00:15<00:00, 15.06s/it]\n"
     ]
    }
   ],
   "source": [
    "losses_train = []\n",
    "signatures = []\n",
    "iterations = 1\n",
    "\n",
    "\n",
    "for i in tqdm(range(iterations)):\n",
    "    # Train-test split (here it makes sense, we are working with AE)\n",
    "    train, test = train_test_split(data.T, test_size = 0.2)\n",
    "    train = train.T\n",
    "    test = test.T\n",
    "\n",
    "    # Initializing AENMF model\n",
    "    aenmf_model = aenmf(input_dim = train.shape[1],\n",
    "                              latent_dim = LATENT_DIM,\n",
    "                              constraint= CONSTRAINT,)\n",
    "    # Training AENMF\n",
    "    aenmf_mod,training_loss_aenmf, signatures_aenmf, exposures_aenmf , enc_aenmf, sig_weights, exp_weights = train_aenmf( \n",
    "                                                model = aenmf_model,\n",
    "                                                training_data = train,\n",
    "                                                criterion = CRITERION,\n",
    "                                                optimizer = optim.Adam(aenmf_model.parameters(), lr=1e-3),\n",
    "                                                tol = TOLERANCE,\n",
    "                                                relative_tol = True,\n",
    "                                                max_iter = MAX_ITERATIONS)\n",
    "    \n",
    "\n",
    "    # TESTING PART\n",
    "\n",
    "    sig_not_weights = signatures_aenmf\n",
    "    exp_not_weights = exposures_aenmf\n",
    "\n",
    "    ####\n",
    "\n",
    "    # Calculating signatures and exposures for NMF\n",
    "    diagonals_aenmf = signatures_aenmf.sum(axis=0)\n",
    "    exposures_aenmf = exposures_aenmf.T @ np.diag(diagonals_aenmf)\n",
    "    signatures_aenmf = (signatures_aenmf) @ np.diag(1 / diagonals_aenmf)\n",
    "    \n",
    "    losses_train.append(training_loss_aenmf[-1])\n",
    "    signatures.append(signatures_aenmf)\n",
    "\n"
   ]
  },
  {
   "cell_type": "code",
   "execution_count": 7,
   "metadata": {},
   "outputs": [
    {
     "name": "stdout",
     "output_type": "stream",
     "text": [
      "Losses train:  6962.92333984375\n"
     ]
    }
   ],
   "source": [
    "print(\"Losses train: \", np.mean(losses_train))"
   ]
  },
  {
   "cell_type": "code",
   "execution_count": 8,
   "metadata": {},
   "outputs": [],
   "source": [
    "all_signatures = np.hstack(signatures)"
   ]
  },
  {
   "cell_type": "code",
   "execution_count": 9,
   "metadata": {},
   "outputs": [],
   "source": [
    "pam = KMedoids(n_clusters = LATENT_DIM, metric='cosine').fit(all_signatures.T)\n",
    "consensus_signatures = all_signatures[:, pam.medoid_indices_]"
   ]
  },
  {
   "cell_type": "code",
   "execution_count": 10,
   "metadata": {},
   "outputs": [],
   "source": [
    "matched_signatures, mean_similarity = cosmic_val.compute_match(consensus_signatures, cosmic)"
   ]
  },
  {
   "cell_type": "code",
   "execution_count": 11,
   "metadata": {},
   "outputs": [
    {
     "name": "stdout",
     "output_type": "stream",
     "text": [
      "   Extracted    True  Similarity\n",
      "0          0  SBS40a    0.821416\n",
      "1          1  SBS10c    0.739153\n",
      "2          2   SBS44    0.845215\n",
      "3          3  SBS10a    0.926539\n",
      "\n",
      "Mean similarity of the matched signatures:  0.8330806938638476\n"
     ]
    }
   ],
   "source": [
    "print(matched_signatures.head())\n",
    "print(\"\\nMean similarity of the matched signatures: \", mean_similarity)"
   ]
  },
  {
   "cell_type": "code",
   "execution_count": 12,
   "metadata": {},
   "outputs": [
    {
     "name": "stdout",
     "output_type": "stream",
     "text": [
      "[[1.97645848e-02 2.00796426e-03 4.00413417e-03 6.77076129e-04]\n",
      " [1.57305506e-02 3.13509512e-03 3.21950118e-03 2.17225433e-03]\n",
      " [2.43804914e-03 4.14059428e-04 4.00828788e-04 1.13986684e-04]\n",
      " [1.70891127e-02 1.43580374e-02 4.54563512e-03 1.21693011e-02]\n",
      " [1.22905126e-02 5.72972944e-04 2.95483011e-03 1.62759035e-03]\n",
      " [6.13312285e-03 2.39062505e-04 1.15227668e-03 5.48621936e-04]\n",
      " [3.34324124e-03 1.92972432e-05 4.11335341e-04 3.70443542e-05]\n",
      " [1.20419493e-02 2.83055230e-04 2.81653006e-03 4.83475849e-04]\n",
      " [1.73272060e-02 2.56955039e-03 5.80473346e-02 1.39035882e-02]\n",
      " [7.91163257e-03 4.03646113e-03 1.24966519e-02 1.17961638e-02]\n",
      " [1.64996187e-02 9.22757992e-03 6.24633490e-02 2.49778598e-02]\n",
      " [1.56423956e-02 7.29637677e-03 1.56920395e-02 1.30129869e-02]\n",
      " [8.15681027e-03 1.12809541e-03 3.51475496e-03 1.29217856e-03]\n",
      " [5.95391490e-03 3.69389614e-04 3.52159907e-03 8.24885162e-04]\n",
      " [8.62492852e-03 1.15719849e-04 1.38253952e-03 2.02773066e-04]\n",
      " [1.15593723e-02 5.05345996e-03 1.81702183e-02 5.54059426e-03]\n",
      " [1.54766922e-02 6.05980142e-03 2.11191743e-02 2.19602925e-02]\n",
      " [7.38061170e-03 3.10581413e-03 7.55624756e-03 1.13269967e-02]\n",
      " [1.09157659e-02 3.30175829e-03 2.26129982e-02 1.08813969e-02]\n",
      " [1.67806953e-02 6.48602698e-03 7.90359546e-03 1.03068506e-02]\n",
      " [3.91678435e-03 3.84663567e-03 8.47537406e-04 1.22771045e-03]\n",
      " [1.74870614e-03 3.07484259e-03 8.81602291e-04 3.89471155e-03]\n",
      " [6.10899200e-03 1.85819483e-03 9.41978522e-04 1.79597997e-03]\n",
      " [5.00643987e-03 2.55253434e-02 3.23585115e-03 2.08492953e-02]\n",
      " [1.50522229e-02 3.31557611e-03 1.05809941e-02 5.15548815e-03]\n",
      " [1.43084718e-02 1.22611285e-03 1.72580726e-02 3.25095648e-03]\n",
      " [1.96505362e-03 3.87857295e-04 3.68102656e-03 6.92450142e-04]\n",
      " [1.46707645e-02 1.37177099e-02 4.60508235e-02 4.41985303e-02]\n",
      " [7.66916631e-03 1.23825954e-05 5.03192822e-04 6.18285347e-05]\n",
      " [6.82379599e-03 2.24062680e-05 9.72743766e-04 7.29378230e-05]\n",
      " [2.55909851e-03 1.77542537e-05 4.91480639e-04 2.03364821e-05]\n",
      " [1.12648684e-02 3.24577662e-05 6.83683072e-04 6.13301715e-05]\n",
      " [1.10275920e-02 1.40420141e-03 8.99195394e-03 5.26641912e-03]\n",
      " [9.97376188e-03 2.11818070e-03 1.02878260e-02 9.01013315e-03]\n",
      " [9.81974918e-03 3.31050504e-03 4.12586950e-02 1.95352673e-02]\n",
      " [1.64366177e-02 3.54923990e-03 1.07995659e-02 1.08949830e-02]\n",
      " [7.26567764e-03 2.42152857e-04 7.99678234e-04 2.02087370e-04]\n",
      " [9.89846116e-03 3.34708547e-04 3.61725423e-03 1.33531991e-03]\n",
      " [9.36993352e-03 3.10782503e-04 1.30323725e-03 3.66256432e-04]\n",
      " [1.47961257e-02 1.08262266e-03 2.27209129e-03 1.59700559e-03]\n",
      " [6.59225499e-03 1.11426484e-03 1.31711358e-02 3.72658980e-03]\n",
      " [9.33265679e-03 1.22066960e-03 8.96480798e-03 6.46370374e-03]\n",
      " [7.01249316e-03 1.39960419e-03 2.56993733e-02 5.67409110e-03]\n",
      " [9.53984642e-03 1.86067287e-03 1.52934120e-02 5.18766210e-03]\n",
      " [2.71900291e-03 3.95842079e-03 8.23066116e-04 2.25984172e-03]\n",
      " [3.38459089e-03 1.30229967e-03 3.03130615e-03 3.12397149e-03]\n",
      " [6.34413492e-03 2.68937162e-03 3.37823037e-03 3.73880162e-03]\n",
      " [8.27682668e-03 1.77883406e-02 8.31968271e-03 2.23177953e-02]\n",
      " [9.67133138e-03 1.35644158e-03 2.55624755e-03 1.97105211e-03]\n",
      " [8.86916895e-03 1.42494271e-03 2.76987981e-03 3.46301134e-03]\n",
      " [1.38500323e-03 8.86866633e-05 7.22072500e-04 3.32225738e-04]\n",
      " [9.15736299e-03 6.25246116e-03 6.33418712e-03 2.54231686e-02]\n",
      " [5.19118715e-03 3.07674814e-04 7.31064830e-04 9.45320652e-04]\n",
      " [4.34895531e-03 1.55786269e-04 1.74476626e-03 5.23744665e-04]\n",
      " [1.53804029e-03 6.17869162e-06 2.89811383e-04 1.64644454e-05]\n",
      " [7.82567262e-03 1.95123258e-04 1.44973184e-03 4.22492317e-04]\n",
      " [1.11666971e-02 2.57100214e-03 4.39122771e-02 2.15503637e-02]\n",
      " [9.50447533e-03 8.92807640e-03 3.80948070e-02 3.70083178e-02]\n",
      " [1.03796011e-02 9.04714327e-03 6.39107814e-02 5.02594032e-02]\n",
      " [1.13088630e-02 1.16512600e-02 3.26604395e-02 3.55031453e-02]\n",
      " [4.81599840e-03 1.55784981e-04 1.03027829e-03 2.49314627e-04]\n",
      " [4.27728229e-03 1.74291069e-04 1.76864782e-03 9.01061551e-04]\n",
      " [5.55213942e-03 6.55871187e-05 1.89422702e-03 1.57090964e-04]\n",
      " [8.90973718e-03 5.81420226e-04 2.46102582e-03 1.09078549e-03]\n",
      " [7.33207409e-03 6.75368752e-03 1.81954983e-02 3.42255193e-02]\n",
      " [5.19946961e-03 4.75358421e-03 7.16035684e-03 3.12843484e-02]\n",
      " [5.58933884e-03 3.34264027e-03 1.56740560e-02 2.53502267e-02]\n",
      " [8.45515819e-03 1.15146213e-02 1.04328454e-02 2.78711168e-02]\n",
      " [2.38359775e-03 5.96792214e-04 3.84759762e-04 1.44752656e-03]\n",
      " [1.73589887e-03 9.16003380e-04 6.26351507e-04 3.78950058e-03]\n",
      " [5.40963388e-03 4.57268309e-04 1.03312525e-03 2.38111768e-03]\n",
      " [4.53514591e-03 3.19136422e-03 5.15357282e-03 1.03705730e-02]\n",
      " [1.91622032e-02 6.14006487e-02 3.62927547e-03 6.18539455e-03]\n",
      " [1.53510119e-02 7.43740814e-03 3.66504899e-03 7.50017148e-03]\n",
      " [1.67899348e-03 2.23134285e-03 6.37140748e-04 2.86679086e-04]\n",
      " [2.59315024e-02 3.58373217e-01 1.61492130e-02 1.03348929e-01]\n",
      " [4.03030812e-02 4.72254067e-05 1.31984854e-03 1.57105499e-04]\n",
      " [1.52966242e-02 6.09969964e-05 7.95082664e-04 1.29750332e-04]\n",
      " [2.71441429e-03 1.38976191e-05 2.82758052e-04 6.69706566e-06]\n",
      " [5.98237746e-02 1.72241637e-04 3.45235844e-03 2.26453348e-04]\n",
      " [4.40050513e-02 5.64033221e-03 9.99319090e-03 8.70288669e-03]\n",
      " [1.79191363e-02 1.40913801e-02 1.04795276e-02 2.23536708e-02]\n",
      " [1.07072445e-02 6.51025877e-02 2.37720683e-02 4.10569958e-02]\n",
      " [3.15834604e-02 3.78649603e-02 1.26975137e-02 3.38510056e-02]\n",
      " [9.39277325e-03 2.16439768e-03 8.56185712e-03 1.11373198e-03]\n",
      " [7.47508465e-03 9.63828884e-04 1.27873983e-03 1.53888235e-03]\n",
      " [5.01727362e-03 9.95421281e-04 1.17807191e-03 3.51940925e-04]\n",
      " [1.49478138e-02 7.39505505e-03 2.24914148e-02 4.01935772e-03]\n",
      " [8.78327598e-03 6.10745060e-03 1.59572838e-02 1.32442837e-02]\n",
      " [8.48754141e-03 5.95554188e-03 1.35609046e-02 1.42314957e-02]\n",
      " [4.92263851e-03 4.48438818e-03 1.47825247e-02 9.47098296e-03]\n",
      " [1.08461172e-02 1.18293177e-02 4.84087863e-02 1.41412335e-02]\n",
      " [5.03572803e-03 1.92036857e-02 1.06023026e-03 3.39138216e-03]\n",
      " [3.70355911e-03 7.66241390e-03 1.14341351e-03 8.18432508e-03]\n",
      " [6.16147362e-03 3.56215507e-03 3.48535088e-03 1.86789150e-03]\n",
      " [1.22635328e-02 1.36249394e-01 2.21017081e-02 6.22644605e-02]]\n"
     ]
    }
   ],
   "source": [
    "print(signatures_aenmf)"
   ]
  },
  {
   "cell_type": "code",
   "execution_count": 20,
   "metadata": {},
   "outputs": [
    {
     "name": "stdout",
     "output_type": "stream",
     "text": [
      "                  0            1           2            3\n",
      "Type                                                     \n",
      "A[C>A]A  724.152296   567.290069  201.174399   134.220272\n",
      "A[C>A]C  576.349791   885.727083  161.753125   430.617111\n",
      "A[C>A]G   89.327395   116.980071   20.138309    22.596165\n",
      "A[C>A]T  626.125990  4056.432761  228.380312  2412.382940\n",
      "A[C>G]A  450.310645   161.876318  148.455608   322.645578\n",
      "            0            1           2            3\n",
      "0  724.152296   567.290069  201.174399   134.220272\n",
      "1  576.349791   885.727083  161.753125   430.617111\n",
      "2   89.327395   116.980071   20.138309    22.596165\n",
      "3  626.125990  4056.432761  228.380312  2412.382940\n",
      "4  450.310645   161.876318  148.455608   322.645578\n"
     ]
    }
   ],
   "source": [
    "print(sig_weights.head())\n",
    "\n",
    "# sig_not_weights = pd.DataFrame(sig_not_weights)\n",
    "\n",
    "print(sig_not_weights.head())"
   ]
  },
  {
   "cell_type": "code",
   "execution_count": 22,
   "metadata": {},
   "outputs": [
    {
     "name": "stdout",
     "output_type": "stream",
     "text": [
      "(96, 4)\n",
      "(96, 4)\n"
     ]
    }
   ],
   "source": [
    "print(sig_not_weights.shape)\n",
    "print(sig_weights.shape)"
   ]
  },
  {
   "cell_type": "code",
   "execution_count": 25,
   "metadata": {},
   "outputs": [
    {
     "name": "stdout",
     "output_type": "stream",
     "text": [
      "[[0. 0. 0. 0.]\n",
      " [0. 0. 0. 0.]\n",
      " [0. 0. 0. 0.]\n",
      " [0. 0. 0. 0.]\n",
      " [0. 0. 0. 0.]\n",
      " [0. 0. 0. 0.]\n",
      " [0. 0. 0. 0.]\n",
      " [0. 0. 0. 0.]\n",
      " [0. 0. 0. 0.]\n",
      " [0. 0. 0. 0.]\n",
      " [0. 0. 0. 0.]\n",
      " [0. 0. 0. 0.]\n",
      " [0. 0. 0. 0.]\n",
      " [0. 0. 0. 0.]\n",
      " [0. 0. 0. 0.]\n",
      " [0. 0. 0. 0.]\n",
      " [0. 0. 0. 0.]\n",
      " [0. 0. 0. 0.]\n",
      " [0. 0. 0. 0.]\n",
      " [0. 0. 0. 0.]\n",
      " [0. 0. 0. 0.]\n",
      " [0. 0. 0. 0.]\n",
      " [0. 0. 0. 0.]\n",
      " [0. 0. 0. 0.]\n",
      " [0. 0. 0. 0.]\n",
      " [0. 0. 0. 0.]\n",
      " [0. 0. 0. 0.]\n",
      " [0. 0. 0. 0.]\n",
      " [0. 0. 0. 0.]\n",
      " [0. 0. 0. 0.]\n",
      " [0. 0. 0. 0.]\n",
      " [0. 0. 0. 0.]\n",
      " [0. 0. 0. 0.]\n",
      " [0. 0. 0. 0.]\n",
      " [0. 0. 0. 0.]\n",
      " [0. 0. 0. 0.]\n",
      " [0. 0. 0. 0.]\n",
      " [0. 0. 0. 0.]\n",
      " [0. 0. 0. 0.]\n",
      " [0. 0. 0. 0.]\n",
      " [0. 0. 0. 0.]\n",
      " [0. 0. 0. 0.]\n",
      " [0. 0. 0. 0.]\n",
      " [0. 0. 0. 0.]\n",
      " [0. 0. 0. 0.]\n",
      " [0. 0. 0. 0.]\n",
      " [0. 0. 0. 0.]\n",
      " [0. 0. 0. 0.]\n",
      " [0. 0. 0. 0.]\n",
      " [0. 0. 0. 0.]\n",
      " [0. 0. 0. 0.]\n",
      " [0. 0. 0. 0.]\n",
      " [0. 0. 0. 0.]\n",
      " [0. 0. 0. 0.]\n",
      " [0. 0. 0. 0.]\n",
      " [0. 0. 0. 0.]\n",
      " [0. 0. 0. 0.]\n",
      " [0. 0. 0. 0.]\n",
      " [0. 0. 0. 0.]\n",
      " [0. 0. 0. 0.]\n",
      " [0. 0. 0. 0.]\n",
      " [0. 0. 0. 0.]\n",
      " [0. 0. 0. 0.]\n",
      " [0. 0. 0. 0.]\n",
      " [0. 0. 0. 0.]\n",
      " [0. 0. 0. 0.]\n",
      " [0. 0. 0. 0.]\n",
      " [0. 0. 0. 0.]\n",
      " [0. 0. 0. 0.]\n",
      " [0. 0. 0. 0.]\n",
      " [0. 0. 0. 0.]\n",
      " [0. 0. 0. 0.]\n",
      " [0. 0. 0. 0.]\n",
      " [0. 0. 0. 0.]\n",
      " [0. 0. 0. 0.]\n",
      " [0. 0. 0. 0.]\n",
      " [0. 0. 0. 0.]\n",
      " [0. 0. 0. 0.]\n",
      " [0. 0. 0. 0.]\n",
      " [0. 0. 0. 0.]\n",
      " [0. 0. 0. 0.]\n",
      " [0. 0. 0. 0.]\n",
      " [0. 0. 0. 0.]\n",
      " [0. 0. 0. 0.]\n",
      " [0. 0. 0. 0.]\n",
      " [0. 0. 0. 0.]\n",
      " [0. 0. 0. 0.]\n",
      " [0. 0. 0. 0.]\n",
      " [0. 0. 0. 0.]\n",
      " [0. 0. 0. 0.]\n",
      " [0. 0. 0. 0.]\n",
      " [0. 0. 0. 0.]\n",
      " [0. 0. 0. 0.]\n",
      " [0. 0. 0. 0.]\n",
      " [0. 0. 0. 0.]\n",
      " [0. 0. 0. 0.]]\n"
     ]
    }
   ],
   "source": [
    "# Back to numpy_arrs\n",
    "\n",
    "sig_not_weights = sig_not_weights.to_numpy()\n",
    "sig_weights = sig_weights.to_numpy()\n",
    "\n",
    "# Compute the differnce between the two\n",
    "\n",
    "diff = np.abs(sig_not_weights - sig_weights)\n",
    "\n",
    "print(diff)"
   ]
  }
 ],
 "metadata": {
  "kernelspec": {
   "display_name": "DL_GENOMICS",
   "language": "python",
   "name": "python3"
  },
  "language_info": {
   "codemirror_mode": {
    "name": "ipython",
    "version": 3
   },
   "file_extension": ".py",
   "mimetype": "text/x-python",
   "name": "python",
   "nbconvert_exporter": "python",
   "pygments_lexer": "ipython3",
   "version": "3.12.8"
  }
 },
 "nbformat": 4,
 "nbformat_minor": 2
}
