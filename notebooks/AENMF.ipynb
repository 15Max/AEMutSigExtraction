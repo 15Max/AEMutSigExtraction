{
 "cells": [
  {
   "cell_type": "markdown",
   "metadata": {},
   "source": [
    "# Libraries"
   ]
  },
  {
   "cell_type": "code",
   "execution_count": 1,
   "metadata": {},
   "outputs": [],
   "source": [
    "import os\n",
    "\n",
    "# go up one directory\n",
    "os.chdir(\"..\")\n",
    "\n",
    "import pandas as pd \n",
    "import numpy as np\n",
    "from tqdm import tqdm\n",
    "from sklearn.model_selection import train_test_split\n",
    "from sklearn_extra.cluster import KMedoids\n",
    "from sklearn.decomposition import PCA\n",
    "from functions import cosmic_val\n",
    "from functions.graph_tools import *\n",
    "from models.aenmf import *\n",
    "from functions import cosmic_val\n",
    "from functions import data_handling as dh\n",
    "import torch.optim as optim\n",
    "import torch.nn as nn\n",
    "\n",
    "# set seed\n",
    "# np.random.seed(15)\n",
    "# torch.manual_seed(15)"
   ]
  },
  {
   "cell_type": "markdown",
   "metadata": {},
   "source": [
    "# Data"
   ]
  },
  {
   "cell_type": "code",
   "execution_count": 2,
   "metadata": {},
   "outputs": [],
   "source": [
    "data_path = \"data/catalogues_Ovary_SBS.tsv\"\n",
    "cosmic_path = \"data/COSMIC_v3.4_SBS_GRCh37.txt\"\n",
    "output_folder = \"data/processed\"\n",
    "output_filename = \"Ordered_Ovary_SBS.csv\"\n",
    "ordered_data_path = os.path.join(output_folder, output_filename)"
   ]
  },
  {
   "cell_type": "code",
   "execution_count": null,
   "metadata": {},
   "outputs": [
    {
     "name": "stdout",
     "output_type": "stream",
     "text": [
      "Data already exists in  data/processed/Ordered_Ovary_SBS.csv\n"
     ]
    }
   ],
   "source": [
    "dh.load_preprocess_data(data_path, cosmic_path, sep1 = \"\\t\", sep2 = \"\\t\", output_folder = output_folder, output_filename = output_filename)"
   ]
  },
  {
   "cell_type": "code",
   "execution_count": 4,
   "metadata": {},
   "outputs": [],
   "source": [
    "# load data\n",
    "data = pd.read_csv(ordered_data_path, index_col = 0)\n",
    "cosmic = pd.read_csv(cosmic_path, sep = \"\\t\", index_col = 0)"
   ]
  },
  {
   "cell_type": "code",
   "execution_count": 5,
   "metadata": {},
   "outputs": [],
   "source": [
    "LATENT_DIM = 4\n",
    "TOLERANCE = 1e-10\n",
    "MAX_ITERATIONS = 100_000_000\n",
    "CONSTRAINT = 'id'\n",
    "CRITERION = nn.MSELoss()"
   ]
  },
  {
   "cell_type": "code",
   "execution_count": 6,
   "metadata": {},
   "outputs": [
    {
     "name": "stderr",
     "output_type": "stream",
     "text": [
      "  0%|          | 0/1 [00:00<?, ?it/s]"
     ]
    },
    {
     "name": "stderr",
     "output_type": "stream",
     "text": [
      "100%|██████████| 1/1 [00:09<00:00,  9.90s/it]\n"
     ]
    }
   ],
   "source": [
    "losses_train = []\n",
    "signatures = []\n",
    "iterations = 1\n",
    "\n",
    "\n",
    "for i in tqdm(range(iterations)):\n",
    "    # Train-test split (here it makes sense, we are working with AE)\n",
    "    train, test = train_test_split(data.T, test_size = 0.2)\n",
    "\n",
    "    # Initializing AENMF model\n",
    "    aenmf_model = aenmf(input_dim = train.shape[1],\n",
    "                              latent_dim = LATENT_DIM,\n",
    "                              constraint= CONSTRAINT,\n",
    "                              xavier = True)\n",
    "    # Training AENMF\n",
    "    aenmf_mod,training_loss_aenmf, signatures_aenmf, exposures_aenmf = train_aenmf( \n",
    "                                                model = aenmf_model,\n",
    "                                                training_data = train,\n",
    "                                                criterion = CRITERION,\n",
    "                                                optimizer = optim.Adam(aenmf_model.parameters(), lr=1e-3),\n",
    "                                                tol = TOLERANCE,\n",
    "                                                relative_tol = False,\n",
    "                                                max_iter = MAX_ITERATIONS)\n",
    "\n",
    "    # Calculating signatures and exposures for NMF\n",
    "    diagonals_aenmf = signatures_aenmf.sum(axis=0)\n",
    "    exposures_aenmf = exposures_aenmf.T @ np.diag(diagonals_aenmf)\n",
    "    signatures_aenmf = (signatures_aenmf) @ np.diag(1 / diagonals_aenmf)\n",
    "    \n",
    "    losses_train.append(training_loss_aenmf[-1])\n",
    "    signatures.append(signatures_aenmf)\n",
    "\n"
   ]
  },
  {
   "cell_type": "code",
   "execution_count": 7,
   "metadata": {},
   "outputs": [
    {
     "name": "stdout",
     "output_type": "stream",
     "text": [
      "Losses train:  12271.259765625\n"
     ]
    }
   ],
   "source": [
    "print(\"Losses train: \", np.mean(losses_train))"
   ]
  },
  {
   "cell_type": "code",
   "execution_count": 8,
   "metadata": {},
   "outputs": [],
   "source": [
    "all_signatures = np.hstack(signatures)"
   ]
  },
  {
   "cell_type": "code",
   "execution_count": 9,
   "metadata": {},
   "outputs": [
    {
     "name": "stdout",
     "output_type": "stream",
     "text": [
      "(96, 4)\n"
     ]
    }
   ],
   "source": [
    "print(all_signatures.shape)"
   ]
  },
  {
   "cell_type": "code",
   "execution_count": 10,
   "metadata": {},
   "outputs": [],
   "source": [
    "pam = KMedoids(n_clusters = LATENT_DIM, metric='cosine').fit(all_signatures.T)\n",
    "labels = pam.labels_\n",
    "medoid_indices = pam.medoid_indices_\n",
    "consensus_signatures = all_signatures[:, medoid_indices]"
   ]
  },
  {
   "cell_type": "code",
   "execution_count": 11,
   "metadata": {},
   "outputs": [],
   "source": [
    "matched_signatures, mean_similarity = cosmic_val.compute_match(consensus_signatures, cosmic)"
   ]
  },
  {
   "cell_type": "code",
   "execution_count": 12,
   "metadata": {},
   "outputs": [
    {
     "name": "stdout",
     "output_type": "stream",
     "text": [
      "   Extracted    True  Similarity\n",
      "0          0    SBS5    0.603553\n",
      "1          1   SBS44    0.820638\n",
      "2          2  SBS10d    0.780493\n",
      "3          3  SBS10a    0.913241\n",
      "\n",
      "Mean similarity of the matched signatures:  0.7794813585048155\n"
     ]
    }
   ],
   "source": [
    "print(matched_signatures.head())\n",
    "print(\"\\nMean similarity of the matched signatures: \", mean_similarity)"
   ]
  },
  {
   "cell_type": "code",
   "execution_count": 13,
   "metadata": {},
   "outputs": [
    {
     "data": {
      "image/png": "[encoded data removed]",
      "text/plain": [
       "<Figure size 1000x600 with 1 Axes>"
      ]
     },
     "metadata": {},
     "output_type": "display_data"
    }
   ],
   "source": [
    "reduced_signatures = PCA(n_components=2).fit_transform(all_signatures.T)\n",
    "plot_clusters(reduced_signatures, labels, medoid_indices, 4, \"AENMF signature clusters\")"
   ]
  }
 ],
 "metadata": {
  "kernelspec": {
   "display_name": "DL_GENOMICS",
   "language": "python",
   "name": "python3"
  },
  "language_info": {
   "codemirror_mode": {
    "name": "ipython",
    "version": 3
   },
   "file_extension": ".py",
   "mimetype": "text/x-python",
   "name": "python",
   "nbconvert_exporter": "python",
   "pygments_lexer": "ipython3",
   "version": "3.12.7"
  }
 },
 "nbformat": 4,
 "nbformat_minor": 2
}
