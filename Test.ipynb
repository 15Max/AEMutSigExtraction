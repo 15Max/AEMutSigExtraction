{
 "cells": [
  {
   "cell_type": "code",
   "execution_count": 10,
   "metadata": {},
   "outputs": [],
   "source": [
    "# Import required libraries\n",
    "import torch\n",
    "import torch.nn as nn\n",
    "from torch.utils.data import DataLoader, TensorDataset\n",
    "import pandas as pd\n",
    "from models.Denoising import DenoisingAutoencoder   # Import the PyTorch DAE\n",
    "from tqdm import tqdm\n",
    " "
   ]
  },
  {
   "cell_type": "code",
   "execution_count": 11,
   "metadata": {},
   "outputs": [],
   "source": [
    "# Set device\n",
    "device = torch.device('cuda' if torch.cuda.is_available() else 'cpu')\n",
    " \n",
    "# =========================\n",
    "# Data Preparation\n",
    "# =========================\n",
    "# Load the data\n",
    "data_file = 'data/GEL_data/catalogues_Prostate_SBS.tsv'\n",
    "mf_df = pd.read_table(data_file, index_col=0).astype('float32')\n",
    "mf_tensor = torch.tensor(mf_df.values)\n",
    " \n",
    "# Add noise\n",
    "noise_factor = 0.5\n",
    "noisy_data = mf_tensor + noise_factor * torch.randn_like(mf_tensor)\n",
    "noisy_data = torch.clamp(noisy_data, 0., 1.)  # Clip values to [0, 1]\n",
    " \n",
    "# Train-test split\n",
    "test_split = 0.2\n",
    "num_samples = mf_df.shape[0]\n",
    "test_size = int(num_samples * test_split)\n",
    "train_size = num_samples - test_size\n",
    "\n",
    " \n",
    "train_data, test_data = torch.utils.data.random_split(\n",
    "    TensorDataset(noisy_data, mf_tensor), [train_size, test_size])\n",
    " \n",
    "train_loader = DataLoader(train_data, batch_size=32, shuffle=True)\n",
    "test_loader = DataLoader(test_data, batch_size=32)\n",
    " \n",
    " "
   ]
  },
  {
   "cell_type": "code",
   "execution_count": 12,
   "metadata": {},
   "outputs": [],
   "source": [
    "# =========================\n",
    "# Model Initialization\n",
    "# =========================\n",
    "input_dim = mf_df.shape[1]\n",
    "latent_dim = 100\n",
    "model = DenoisingAutoencoder(input_dim, latent_dim).to(device)\n",
    " \n",
    "# Define optimizer and loss function\n",
    "optimizer = torch.optim.Adam(model.parameters(), lr=0.001)\n",
    "criterion = nn.MSELoss()\n",
    " "
   ]
  },
  {
   "cell_type": "code",
   "execution_count": 14,
   "metadata": {},
   "outputs": [
    {
     "name": "stderr",
     "output_type": "stream",
     "text": [
      "100%|██████████| 10000/10000 [05:40<00:00, 29.35it/s]"
     ]
    },
    {
     "name": "stdout",
     "output_type": "stream",
     "text": [
      "Training completed and latent representations saved!\n"
     ]
    },
    {
     "name": "stderr",
     "output_type": "stream",
     "text": [
      "\n"
     ]
    }
   ],
   "source": [
    "\n",
    "# =========================\n",
    "# Training Loop\n",
    "# =========================\n",
    "epochs = 10000\n",
    " \n",
    "for epoch in tqdm(range(epochs)):\n",
    "    model.train()\n",
    "    train_loss = 0.0\n",
    "    for batch_noisy, batch_clean in train_loader:\n",
    "        batch_noisy, batch_clean = batch_noisy.to(device), batch_clean.to(device)\n",
    "        # Forward pass\n",
    "        outputs = model(batch_noisy)\n",
    "        loss = criterion(outputs, batch_clean)\n",
    "        # Backward pass\n",
    "        optimizer.zero_grad()\n",
    "        loss.backward()\n",
    "        optimizer.step()\n",
    "        train_loss += loss.item()\n",
    "    # Validation loss\n",
    "    model.eval()\n",
    "    val_loss = 0.0\n",
    "    with torch.no_grad():\n",
    "        for batch_noisy, batch_clean in test_loader:\n",
    "            batch_noisy, batch_clean = batch_noisy.to(device), batch_clean.to(device)\n",
    "            outputs = model(batch_noisy)\n",
    "            loss = criterion(outputs, batch_clean)\n",
    "            val_loss += loss.item()\n",
    "    # print(f\"Epoch {epoch + 1}/{epochs}, Train Loss: {train_loss / len(train_loader):.4f}, \"\n",
    "          # f\"Val Loss: {val_loss / len(test_loader):.4f}\")\n",
    " \n",
    "# =========================\n",
    "# Save Results\n",
    "# =========================\n",
    "# Save latent representations\n",
    "model.eval()\n",
    "encoded_data = model.encoder(mf_tensor.to(device)).cpu().detach().numpy()\n",
    "encoded_df = pd.DataFrame(encoded_data, index=mf_df.index)\n",
    "encoded_df.to_csv('encoded_representations.tsv', sep='\\t')\n",
    " \n",
    "print(\"Training completed and latent representations saved!\")"
   ]
  },
  {
   "cell_type": "code",
   "execution_count": 17,
   "metadata": {},
   "outputs": [
    {
     "name": "stdout",
     "output_type": "stream",
     "text": [
      "tensor(28076.2793, device='cuda:0')\n"
     ]
    }
   ],
   "source": [
    "print(loss)"
   ]
  }
 ],
 "metadata": {
  "kernelspec": {
   "display_name": "DL_GENOMICS",
   "language": "python",
   "name": "python3"
  },
  "language_info": {
   "codemirror_mode": {
    "name": "ipython",
    "version": 3
   },
   "file_extension": ".py",
   "mimetype": "text/x-python",
   "name": "python",
   "nbconvert_exporter": "python",
   "pygments_lexer": "ipython3",
   "version": "3.12.7"
  }
 },
 "nbformat": 4,
 "nbformat_minor": 2
}
